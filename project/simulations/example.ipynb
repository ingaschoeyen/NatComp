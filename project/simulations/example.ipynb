{
 "cells": [
  {
   "cell_type": "markdown",
   "id": "f7e0d09c",
   "metadata": {},
   "source": [
    "## Setup"
   ]
  },
  {
   "cell_type": "markdown",
   "id": "baddae3a",
   "metadata": {},
   "source": [
    "### External libraries"
   ]
  },
  {
   "cell_type": "code",
   "execution_count": null,
   "id": "5d9cd40e",
   "metadata": {},
   "outputs": [],
   "source": [
    "import numpy as np\n",
    "import matplotlib.pyplot as plt\n",
    "import copy"
   ]
  },
  {
   "cell_type": "markdown",
   "id": "e14aa533",
   "metadata": {},
   "source": [
    "### Project modules"
   ]
  },
  {
   "cell_type": "code",
   "execution_count": null,
   "id": "692724c3",
   "metadata": {},
   "outputs": [],
   "source": [
    "# Adding the path to modules\n",
    "%reload_ext autoreload\n",
    "%autoreload 2\n",
    "import os\n",
    "\n",
    "import sys\n",
    "module_path = os.path.abspath(os.path.join('../src'))\n",
    "sys.path.insert(0, module_path)\n",
    "\n",
    "from population import Population, Initialization\n",
    "from simulation import Simulation\n",
    "from plotting import *\n",
    "from geometry import *\n",
    "from election import Election\n",
    "from agents import Voter, Candidate, System, Strategy, Approach"
   ]
  },
  {
   "cell_type": "markdown",
   "id": "f1d4b694",
   "metadata": {},
   "source": [
    "#### Parameters\n",
    "\n",
    "Dictionary specifying all parameters of the simulations.\n",
    "Parameters can be adjusted in between different runs by changing the attributes of the dictionary, and passing the dictionary again."
   ]
  },
  {
   "cell_type": "code",
   "execution_count": null,
   "id": "b4019493",
   "metadata": {},
   "outputs": [],
   "source": [
    "params = {\n",
    "    # Simulation parameters\n",
    "    \"n_rounds\": 10,             # Number of election rounds\n",
    "    \"n_polls\": 5,               # Number of polling rounds between elections\n",
    "    # Election parameters\n",
    "    \"system\" : System.FPTP,   # Electoral system, one of FPTP INSTANT_RUNOFF APPROVAL\n",
    "    \"threshold\" : 0.1,                  # Percentage threshold for getting elected to the parliament\n",
    "    \"dist_metric\" : distance_euclid,    # Distance metric\n",
    "    # Population parameters\n",
    "    \"dimension\": 2,             # Dimension of the space in which voters and candidates are located\n",
    "    \"low\": -1,                  # Lower bound for the uniform distribution of voter positions\n",
    "    \"high\": 1,                  # Upper bound for the uniform distribution of voter positions\n",
    "    \"mu\": 0,                    # Mean for the normal distribution of voter positions\n",
    "    \"sigma\": 1,\n",
    "    \"cand_dist\": Initialization.UNIFORM,    # Distribution type for candidate positions: UNIFORM NORMAL CLUSTER CUSTOM\n",
    "    \"n_candidates\": 10,                     # Number of candidates in the election\n",
    "    \"cand_approach_dist\": {\n",
    "        Approach.RANDOM : 0.05,\n",
    "        Approach.HONEST : 0.45,\n",
    "        Approach.DEFENSIVE : 0.25,\n",
    "        Approach.OFFENSIVE : 0.25\n",
    "    },\n",
    "    \"voter_dist\": Initialization.UNIFORM,   # Distribution type for voter positions: UNIFORM NORMAL CLUSTER CUSTOM\n",
    "    \"n_voters\": 200,                        # Number of voters in the population\n",
    "    \"voter_strat_dist\": {\n",
    "        Strategy.RANDOM : 0.05,\n",
    "        Strategy.HONEST : 0.10,\n",
    "        Strategy.POPULIST : 0.10,\n",
    "        Strategy.REALIST : 0.50,\n",
    "        Strategy.LOYAL : 0.25,\n",
    "    },\n",
    "    \"use_local_neighborhood\": False,         # Whether to use local neighborhood for updating voter opinions\n",
    "    \"neighborhood_radius\": 0.2,             # Radius for the local neighborhood around\n",
    "    \"per_polls\": 0.1,                       # Percentage of the subsample size when polling\n",
    "    # Voter parameters\n",
    "    \"best_preference\": 1.0,     # Weight of distance to best candidate for toleration radius\n",
    "    \"worst_tolerance\": 0.8,     # Weight of distance to worst candidate for toleration radius\n",
    "    \"campaign_weight\": 0.4,     # Weight of campaign message in the voter's decision\n",
    "    \"poll_weight\": 0.2,         # Weight of polls in the voter's decision\n",
    "    \"social_weight\": 0.6,       # Weight of social influence in the voter's decision\n",
    "    # Candidate parameters\n",
    "    \"approach_weight\": 0.005,   # Weight of the approach in the candidate's position update\n",
    "}"
   ]
  },
  {
   "cell_type": "markdown",
   "id": "92028a89",
   "metadata": {},
   "source": [
    "## Simulations setup"
   ]
  },
  {
   "cell_type": "code",
   "execution_count": null,
   "id": "6a62c0cc",
   "metadata": {},
   "outputs": [],
   "source": [
    "populationA = Population(params=params) # Set up the population to be used during the simulation"
   ]
  },
  {
   "cell_type": "markdown",
   "id": "a869f7d2",
   "metadata": {},
   "source": [
    "If we want to compare a simulation with the same parameters, but different population, we can just adjust the dictionary and pass it to the constructor again."
   ]
  },
  {
   "cell_type": "code",
   "execution_count": null,
   "id": "4b8b89fb",
   "metadata": {},
   "outputs": [],
   "source": [
    "params[\"cand_approach_dist\"] = {\n",
    "        Approach.RANDOM : 0.00,\n",
    "        Approach.HONEST : 1.0,\n",
    "        Approach.DEFENSIVE : 0.0,\n",
    "        Approach.OFFENSIVE : 0.0\n",
    "}\n",
    "populationB = Population(params=params)"
   ]
  },
  {
   "cell_type": "markdown",
   "id": "0a54a6bd",
   "metadata": {},
   "source": [
    "Then we can setup the population, again using the dictionary of parameters."
   ]
  },
  {
   "cell_type": "code",
   "execution_count": null,
   "id": "fc293c3e",
   "metadata": {},
   "outputs": [],
   "source": [
    "sim_fptp_A = Simulation(population=populationA, params=params)\n",
    "sim_fptp_B = Simulation(population=populationB, params=params)"
   ]
  },
  {
   "cell_type": "markdown",
   "id": "e21583a5",
   "metadata": {},
   "source": [
    "And again, we can setup a different simulation by changing the relevant dictionary parameters, and passing it to the constructor."
   ]
  },
  {
   "cell_type": "code",
   "execution_count": null,
   "id": "1de9735b",
   "metadata": {},
   "outputs": [],
   "source": [
    "params[\"system\"] = System.APPROVAL\n",
    "params[\"threshold\"] = 0.5\n",
    "sim_approval_A = Simulation(population=populationA, params=params)\n",
    "sim_approval_B = Simulation(population=populationB, params=params)"
   ]
  },
  {
   "cell_type": "markdown",
   "id": "8db1051e",
   "metadata": {},
   "source": [
    "### Running Simulations"
   ]
  },
  {
   "cell_type": "markdown",
   "id": "cd813716",
   "metadata": {},
   "source": [
    "We can save the results into a json file (save_results=True), create a gif of the scatterplots during the election run (make_gif=True), and also save the intermediate pngs used to compose the gif (delete_frames=False)"
   ]
  },
  {
   "cell_type": "code",
   "execution_count": null,
   "id": "1ab85707",
   "metadata": {},
   "outputs": [],
   "source": [
    "output_A = sim_fptp_A.run_election_cycles(save_results=False, make_gif=True, delete_frames=False)\n",
    "print(f\"Simulation\", output_A.get('sim_id'), \"completed.\") # simulation ID consisting of a timestamp"
   ]
  },
  {
   "cell_type": "code",
   "execution_count": null,
   "id": "3cd59356",
   "metadata": {},
   "outputs": [],
   "source": [
    "output_B = sim_fptp_B.run_election_cycles(save_results=False, make_gif=False, delete_frames=True)\n",
    "print(f\"Simulation\", output_B.get('sim_id'), \"completed.\") # simulation ID consisting of a timestamp"
   ]
  },
  {
   "cell_type": "markdown",
   "id": "df999e09",
   "metadata": {},
   "source": [
    "Quantitative results can be found in the output dictionary"
   ]
  },
  {
   "cell_type": "code",
   "execution_count": null,
   "id": "7929377a",
   "metadata": {},
   "outputs": [],
   "source": [
    "results_A = output_A.get(\"results\")\n",
    "results_B = output_B.get(\"results\")\n",
    "print(results_A)\n",
    "print(results_B)"
   ]
  },
  {
   "cell_type": "markdown",
   "id": "e8a0eef0",
   "metadata": {},
   "source": [
    "#### Plotting"
   ]
  },
  {
   "cell_type": "markdown",
   "id": "1a0ed3bc",
   "metadata": {},
   "source": [
    "Quantitative results can be observed in the dynamics plots"
   ]
  },
  {
   "cell_type": "code",
   "execution_count": null,
   "id": "f37dc68e",
   "metadata": {},
   "outputs": [],
   "source": [
    "plot_sim_dynamics(results_A, output_path=\"results_FPTP_A.png\")\n",
    "plot_sim_dynamics(results_B, output_path=\"results_FPTP_B.png\")"
   ]
  }
 ],
 "metadata": {
  "kernelspec": {
   "display_name": "Python 3",
   "language": "python",
   "name": "python3"
  },
  "language_info": {
   "codemirror_mode": {
    "name": "ipython",
    "version": 3
   },
   "file_extension": ".py",
   "mimetype": "text/x-python",
   "name": "python",
   "nbconvert_exporter": "python",
   "pygments_lexer": "ipython3",
   "version": "3.10.12"
  }
 },
 "nbformat": 4,
 "nbformat_minor": 5
}
