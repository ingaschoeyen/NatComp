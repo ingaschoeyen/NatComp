{
 "cells": [
  {
   "cell_type": "markdown",
   "id": "386c35e1",
   "metadata": {},
   "source": [
    "# Experiment 1u"
   ]
  },
  {
   "cell_type": "markdown",
   "id": "ec0af04f",
   "metadata": {},
   "source": [
    "random and honest, uniform distribution"
   ]
  },
  {
   "cell_type": "markdown",
   "id": "c4b1274f",
   "metadata": {},
   "source": [
    "### Import libraries"
   ]
  },
  {
   "cell_type": "code",
   "execution_count": null,
   "id": "5d9cd40e",
   "metadata": {},
   "outputs": [],
   "source": [
    "import numpy as np\n",
    "import matplotlib.pyplot as plt"
   ]
  },
  {
   "cell_type": "code",
   "execution_count": null,
   "id": "692724c3",
   "metadata": {},
   "outputs": [],
   "source": [
    "# Adding the path to modules\n",
    "%reload_ext autoreload\n",
    "%autoreload 2\n",
    "import os\n",
    "\n",
    "import sys\n",
    "module_path = os.path.abspath(os.path.join('../src'))\n",
    "sys.path.insert(0, module_path)\n",
    "\n",
    "from population import Population\n",
    "from simulation import Simulation\n",
    "from plotting import *\n",
    "from geometry import *\n",
    "from election import Election\n",
    "import copy\n",
    "\n",
    "from agents import Voter, Candidate, System, Strategy, Approach"
   ]
  },
  {
   "cell_type": "markdown",
   "id": "f7e0d09c",
   "metadata": {},
   "source": [
    "## Setup"
   ]
  },
  {
   "cell_type": "markdown",
   "id": "f1d4b694",
   "metadata": {},
   "source": [
    "#### Hyperparams"
   ]
  },
  {
   "cell_type": "code",
   "execution_count": null,
   "id": "b4019493",
   "metadata": {},
   "outputs": [],
   "source": [
    "n_sims = 9\n",
    "n_rounds = 10\n",
    "n_voters = 1000\n",
    "n_cands = 10"
   ]
  },
  {
   "cell_type": "markdown",
   "id": "8db1051e",
   "metadata": {},
   "source": [
    "#### Population setup - random and honest voters, random and honest candidates"
   ]
  },
  {
   "cell_type": "code",
   "execution_count": null,
   "id": "7b16564f",
   "metadata": {},
   "outputs": [],
   "source": [
    "votersR = [Voter(coords=[np.random.uniform(-1, 1, size=2)], id=i, strat=Strategy.RANDOM) for i in range(n_voters)]\n",
    "votersH = [Voter(coords=[np.random.uniform(-1, 1, size=2)], id=i, strat=Strategy.HONEST) for i in range(n_voters)]\n",
    "candsR = [Candidate(coords=[float(np.random.uniform(-1, 1)) for _ in range(2)], id=i, approach=Approach.RANDOM) for i in range(n_cands)]\n",
    "candsH = [Candidate(coords=[float(np.random.uniform(-1, 1)) for _ in range(2)], id=i, approach=Approach.HONEST) for i in range(n_cands)]"
   ]
  },
  {
   "cell_type": "code",
   "execution_count": null,
   "id": "085f6393",
   "metadata": {},
   "outputs": [],
   "source": [
    "pop1 = Population(voters=votersR, candidates=candsR)\n",
    "pop2 = Population(voters=votersH, candidates=candsR)\n",
    "pop3 = Population(voters=votersR, candidates=candsH)\n",
    "pop4 = Population(voters=votersH, candidates=candsH)\n",
    "\n",
    "pop_names = ['RANDOM_VxRANDOM_C',\n",
    "             'HONEST_VxRANDOM_C',\n",
    "             'RANDOM_VxHONEST_C',\n",
    "             'HONEST_VxHONEST_C']"
   ]
  },
  {
   "cell_type": "markdown",
   "id": "47249349",
   "metadata": {},
   "source": [
    "## Run Simulations"
   ]
  },
  {
   "cell_type": "markdown",
   "id": "f0003951",
   "metadata": {},
   "source": [
    "### FPTP"
   ]
  },
  {
   "cell_type": "code",
   "execution_count": null,
   "id": "1ab85707",
   "metadata": {},
   "outputs": [],
   "source": [
    "params = {'system': System.FPTP} # Use default values for the rest of the parameters\n",
    "res1_FPTP, res2_FPTP, res3_FPTP, res4_FPTP = [], [], [], []\n",
    "\n",
    "for i in range(n_sims):\n",
    "    pop1_int, pop2_int, pop3_int, pop4_int = copy.copy(pop1), copy.copy(pop2), copy.copy(pop3), copy.copy(pop4)\n",
    "    sim1 = Simulation(population=pop1_int, params=params)\n",
    "    sim2 = Simulation(population=pop2_int, params=params)\n",
    "    sim3 = Simulation(population=pop3_int, params=params)\n",
    "    sim4 = Simulation(population=pop4_int, params=params)\n",
    "\n",
    "    output1 = sim1.run_election_cycles(save_results=False, make_gif=(i==0), verbose=False)\n",
    "    output2 = sim2.run_election_cycles(save_results=False, make_gif=(i==0), verbose=False)\n",
    "    output3 = sim3.run_election_cycles(save_results=False, make_gif=(i==0), verbose=False)\n",
    "    output4 = sim4.run_election_cycles(save_results=False, make_gif=(i==0), verbose=False)\n",
    "    print(f\"Simulation {i+1} completed.\")\n",
    "    res1_FPTP.append(output1.get('results'))\n",
    "    res2_FPTP.append(output2.get('results'))\n",
    "    res3_FPTP.append(output3.get('results'))\n",
    "    res4_FPTP.append(output4.get('results'))\n",
    "\n",
    "results_FPTP = [res1_FPTP, res2_FPTP, res3_FPTP, res4_FPTP]"
   ]
  },
  {
   "cell_type": "markdown",
   "id": "e8a0eef0",
   "metadata": {},
   "source": [
    "#### Plotting"
   ]
  },
  {
   "cell_type": "code",
   "execution_count": null,
   "id": "f37dc68e",
   "metadata": {},
   "outputs": [],
   "source": [
    "fig1, axs1 = plt.subplots(2, 2, figsize=(12, 10))\n",
    "fig2, axs2 = plt.subplots(2, 2, figsize=(12, 10))\n",
    "for i, res in enumerate(results_FPTP):\n",
    "    plot_stats(axs1[i // 2, i % 2], res, n_sims, n_rounds, pop_names[i])\n",
    "    plot_dynamics(axs2[i // 2, i % 2], res[0], pop_names[i])\n",
    "fig1.suptitle(f'First-Past-The-Post n={n_voters}, c={n_cands}, r={n_rounds}')\n",
    "fig2.suptitle(f'First-Past-The-Post n={n_voters}, c={n_cands}, r={n_rounds}')\n",
    "fig1.savefig('./results/plots/exp1u/stats_FPTP.png')\n",
    "fig2.savefig('./results/plots/exp1u/dynamics_FPTP.png')"
   ]
  },
  {
   "cell_type": "markdown",
   "id": "8eaf419d",
   "metadata": {},
   "source": [
    "### Permanent Plots"
   ]
  },
  {
   "cell_type": "markdown",
   "id": "585821b9",
   "metadata": {},
   "source": [
    "![FPTP](./results/plots/exp1u/stats_FPTP.png)"
   ]
  },
  {
   "cell_type": "markdown",
   "id": "1e4aa027",
   "metadata": {},
   "source": [
    "![FPTP dynamics](./results/plots/exp1u/dynamics_FPTP.png)"
   ]
  },
  {
   "cell_type": "markdown",
   "id": "ffd21d28",
   "metadata": {},
   "source": [
    "#### Clear sim objects"
   ]
  },
  {
   "cell_type": "code",
   "execution_count": null,
   "id": "27b4d2ee",
   "metadata": {},
   "outputs": [],
   "source": [
    "del pop1_int, pop2_int, pop3_int, pop4_int\n",
    "del sim1, sim2, sim3, sim4\n",
    "del output1, output2, output3, output4"
   ]
  },
  {
   "cell_type": "markdown",
   "id": "848effc9",
   "metadata": {},
   "source": [
    "### Instant Runoff"
   ]
  },
  {
   "cell_type": "code",
   "execution_count": null,
   "id": "ada12e3f",
   "metadata": {},
   "outputs": [],
   "source": [
    "\n",
    "params={'system': System.INSTANT_RUNOFF} # Use default values for the rest of the parameters\n",
    "res1_IR, res2_IR, res3_IR, res4_IR = [], [], [], []\n",
    "\n",
    "for i in range(n_sims):\n",
    "    pop1_int, pop2_int, pop3_int, pop4_int = copy.copy(pop1), copy.copy(pop2), copy.copy(pop3), copy.copy(pop4)\n",
    "    sim1 = Simulation(population=pop1_int, params=params)\n",
    "    sim2 = Simulation(population=pop2_int, params=params)\n",
    "    sim3 = Simulation(population=pop3_int, params=params)\n",
    "    sim4 = Simulation(population=pop4_int, params=params)\n",
    "\n",
    "    output1 = sim1.run_election_cycles(save_results=False, make_gif=(i==0), verbose=False)\n",
    "    output2 = sim2.run_election_cycles(save_results=False, make_gif=(i==0), verbose=False)\n",
    "    output3 = sim3.run_election_cycles(save_results=False, make_gif=(i==0), verbose=False)\n",
    "    output4 = sim4.run_election_cycles(save_results=False, make_gif=(i==0), verbose=False)\n",
    "    print(f\"Simulation {i+1} completed.\")\n",
    "    res1_IR.append(output1.get('results'))\n",
    "    res2_IR.append(output2.get('results'))\n",
    "    res3_IR.append(output3.get('results'))\n",
    "    res4_IR.append(output4.get('results'))\n",
    "\n",
    "results_IR = [res1_IR, res2_IR, res3_IR, res4_IR]"
   ]
  },
  {
   "cell_type": "markdown",
   "id": "3159f85b",
   "metadata": {},
   "source": [
    "#### Plotting"
   ]
  },
  {
   "cell_type": "code",
   "execution_count": null,
   "id": "cc627fb1",
   "metadata": {},
   "outputs": [],
   "source": [
    "fig1, axs1 = plt.subplots(2, 2, figsize=(12, 10))\n",
    "fig2, axs2 = plt.subplots(2, 2, figsize=(12, 10))\n",
    "for i, res in enumerate(results_IR):\n",
    "    plot_stats(axs1[i // 2, i % 2], res, n_sims, n_rounds, pop_names[i])\n",
    "    plot_dynamics(axs2[i // 2, i % 2], res[0], pop_names[i])\n",
    "\n",
    "fig1.suptitle(f'Instant Runoff n={n_voters}, c={n_cands}, r={n_rounds}')\n",
    "fig2.suptitle(f'Instant Runoff n={n_voters}, c={n_cands}, r={n_rounds}')\n",
    "fig1.savefig(f'./results/plots/exp1u/stats_IR.png')\n",
    "fig2.savefig(f'./results/plots/exp1u/dynamics_IR.png')"
   ]
  },
  {
   "cell_type": "markdown",
   "id": "141391cd",
   "metadata": {},
   "source": [
    "### Permanent Plots"
   ]
  },
  {
   "cell_type": "markdown",
   "id": "9d6a9e42",
   "metadata": {},
   "source": [
    "![Instant Runoff stats](./results/plots/exp1u/stats_IR.png)"
   ]
  },
  {
   "cell_type": "markdown",
   "id": "a3fdfc34",
   "metadata": {},
   "source": [
    "![Instant_runoff dynamics](./results/plots/exp1u/dynamics_IR.png)"
   ]
  },
  {
   "cell_type": "markdown",
   "id": "4c256463",
   "metadata": {},
   "source": [
    "##### Clear memory of sim objects"
   ]
  },
  {
   "cell_type": "code",
   "execution_count": null,
   "id": "498772a2",
   "metadata": {},
   "outputs": [],
   "source": [
    "del sim1, sim2, sim3, sim4\n",
    "del output1, output2, output3, output4\n",
    "del pop1_int, pop2_int, pop3_int, pop4_int"
   ]
  },
  {
   "cell_type": "markdown",
   "id": "0fbe0cfd",
   "metadata": {},
   "source": [
    "### Approval"
   ]
  },
  {
   "cell_type": "code",
   "execution_count": null,
   "id": "324c40a5",
   "metadata": {},
   "outputs": [],
   "source": [
    "params = {'system': System.APPROVAL} # Use default values for the rest of the parameters\n",
    "res1_A, res2_A, res3_A, res4_A = [], [], [], []\n",
    "\n",
    "for i in range(n_sims):\n",
    "    pop1_int, pop2_int, pop3_int, pop4_int = copy.copy(pop1), copy.copy(pop2), copy.copy(pop3), copy.copy(pop4)\n",
    "    sim1 = Simulation(population=pop1_int, params=params)\n",
    "    sim2 = Simulation(population=pop2_int, params=params)\n",
    "    sim3 = Simulation(population=pop3_int, params=params)\n",
    "    sim4 = Simulation(population=pop4_int, params=params)\n",
    "\n",
    "    output1 = sim1.run_election_cycles(save_results=False, make_gif=(i==0), verbose=False)\n",
    "    output2 = sim2.run_election_cycles(save_results=False, make_gif=(i==0), verbose=False)\n",
    "    output3 = sim3.run_election_cycles(save_results=False, make_gif=(i==0), verbose=False)\n",
    "    output4 = sim4.run_election_cycles(save_results=False, make_gif=(i==0), verbose=False)\n",
    "    print(f\"Simulation {i+1} completed.\")\n",
    "    res1_A.append(output1.get('results'))\n",
    "    res2_A.append(output2.get('results'))\n",
    "    res3_A.append(output3.get('results'))\n",
    "    res4_A.append(output4.get('results'))\n",
    "\n",
    "results_AP = [res1_A, res2_A, res3_A, res4_A]"
   ]
  },
  {
   "cell_type": "markdown",
   "id": "9ff37d46",
   "metadata": {},
   "source": [
    "#### Plotting"
   ]
  },
  {
   "cell_type": "code",
   "execution_count": null,
   "id": "7b9e56c9",
   "metadata": {},
   "outputs": [],
   "source": [
    "fig1, axs1 = plt.subplots(2, 2, figsize=(12, 10))\n",
    "fig2, axs2 = plt.subplots(2, 2, figsize=(12, 10))\n",
    "for i, res in enumerate(results_AP):\n",
    "    plot_stats(axs1[i // 2, i % 2], res, n_sims, n_rounds, pop_names[i])\n",
    "    plot_dynamics(axs2[i // 2, i % 2], res[0], pop_names[i])\n",
    "\n",
    "fig1.suptitle(f'Approval Voting n={n_voters}, c={n_cands}, r={n_rounds}')\n",
    "fig2.suptitle(f'Approval Voting n={n_voters}, c={n_cands}, r={n_rounds}')\n",
    "fig1.savefig(f'./results/plots/exp1u/stats_AP.png')\n",
    "fig2.savefig(f'./results/plots/exp1u/dynamics_AP.png')"
   ]
  },
  {
   "cell_type": "markdown",
   "id": "4a61d312",
   "metadata": {},
   "source": [
    "### Permanent Plots"
   ]
  },
  {
   "cell_type": "markdown",
   "id": "a910cba3",
   "metadata": {},
   "source": [
    "![Approval Voting Stats](./results/plots/exp1u/results_stats_AP.png)"
   ]
  },
  {
   "cell_type": "markdown",
   "id": "616b2940",
   "metadata": {},
   "source": [
    "![Approval Voting](./results/plots/exp1u/results_dynamics_AP.png)"
   ]
  }
 ],
 "metadata": {
  "kernelspec": {
   "display_name": "Python 3",
   "language": "python",
   "name": "python3"
  },
  "language_info": {
   "codemirror_mode": {
    "name": "ipython",
    "version": 3
   },
   "file_extension": ".py",
   "mimetype": "text/x-python",
   "name": "python",
   "nbconvert_exporter": "python",
   "pygments_lexer": "ipython3",
   "version": "3.10.12"
  }
 },
 "nbformat": 4,
 "nbformat_minor": 5
}
