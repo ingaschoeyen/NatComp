{
 "cells": [
  {
   "cell_type": "markdown",
   "id": "386c35e1",
   "metadata": {},
   "source": [
    "# Analysis 2a"
   ]
  },
  {
   "cell_type": "markdown",
   "id": "5a640bcb",
   "metadata": {},
   "source": [
    "Compare the outcomes of the elections for random and honest voters and candidates, with agents distributed uniformly in the opinion space."
   ]
  },
  {
   "cell_type": "markdown",
   "id": "c4b1274f",
   "metadata": {},
   "source": [
    "### Import libraries"
   ]
  },
  {
   "cell_type": "code",
   "execution_count": null,
   "id": "5d9cd40e",
   "metadata": {},
   "outputs": [],
   "source": [
    "import numpy as np\n",
    "import matplotlib.pyplot as plt"
   ]
  },
  {
   "cell_type": "code",
   "execution_count": null,
   "id": "c994606d",
   "metadata": {
    "vscode": {
     "languageId": "shellscript"
    }
   },
   "outputs": [],
   "source": [
    "cd .."
   ]
  },
  {
   "cell_type": "code",
   "execution_count": null,
   "id": "692724c3",
   "metadata": {},
   "outputs": [],
   "source": [
    "from population import Population\n",
    "from simulation import Simulation\n",
    "from plotting import *\n",
    "from geometry import *\n",
    "from election import Election\n",
    "import copy\n",
    "\n",
    "from agents import Voter, Candidate, System, Strategy, Approach"
   ]
  },
  {
   "cell_type": "markdown",
   "id": "60d8bbc4",
   "metadata": {},
   "source": [
    "### Functions"
   ]
  },
  {
   "cell_type": "markdown",
   "id": "309ed90b",
   "metadata": {},
   "source": [
    "Some example functions to show how to extract data from the simulation.\n",
    "\n"
   ]
  },
  {
   "cell_type": "code",
   "execution_count": null,
   "id": "c68f4549",
   "metadata": {},
   "outputs": [],
   "source": [
    "def plot_stats(ax: plt.Axes, res: list, n_sims: int, n_rounds: int, pop_name: str):\n",
    "    vse_comp, vse_util, vse_vdist_comp, norm_entropy = np.zeros((n_sims, n_rounds)), np.zeros((n_sims, n_rounds)), np.zeros((n_sims, n_rounds)), np.zeros((n_sims, n_rounds))\n",
    "    for j, results in enumerate(res):\n",
    "        vse_comp[j, :] = np.reshape([r.get('vse_comp')  for r in results], (1, n_rounds))\n",
    "        vse_util[j, :] = np.reshape([r.get('vse_util') for r in results], (1, n_rounds))\n",
    "        vse_vdist_comp[j, :] = np.reshape([r.get('vse_vdist_comp') for r in results], (1, n_rounds))\n",
    "        norm_entropy = np.reshape([r.get('norm_entropy') for r in results], (1, n_rounds))\n",
    "    # average over simulations \n",
    "    vse_comp_mean = np.mean(vse_comp, axis=0)\n",
    "    vse_util_mean = np.mean(vse_util, axis=0)\n",
    "    vse_vdist_comp_mean = np.mean(vse_vdist_comp, axis=0)\n",
    "    norm_entropy_mean = np.mean(norm_entropy, axis=0)\n",
    "    # get std\n",
    "    vse_comp_std = np.std(vse_comp, axis=0)\n",
    "    vse_util_std = np.std(vse_util, axis=0)\n",
    "    vse_vdist_comp_std = np.std(vse_vdist_comp, axis=0)\n",
    "    norm_entropy_std = np.std(norm_entropy, axis=0)\n",
    "    # plot results\n",
    "\n",
    "    ax.plot(vse_comp_mean, label='VSE Comp', color='blue')\n",
    "    ax.fill_between(range(n_rounds), vse_comp_mean - vse_comp_std, vse_comp_mean + vse_comp_std, color='blue', alpha=0.2)\n",
    "    ax.plot(vse_util_mean, label='VSE Util', color='orange')\n",
    "    ax.fill_between(range(n_rounds), vse_util_mean - vse_util_std, vse_util_mean + vse_util_std, color='orange', alpha=0.2)\n",
    "    ax.plot(vse_vdist_comp_mean, label='VSE VDist Comp', color='green')\n",
    "    ax.fill_between(range(n_rounds), vse_vdist_comp_mean - vse_vdist_comp_std, vse_vdist_comp_mean + vse_vdist_comp_std, color='green', alpha=0.2)\n",
    "    ax.plot(norm_entropy_mean, label='Norm Entropy', color='red')\n",
    "    ax.fill_between(range(n_rounds), norm_entropy_mean - norm_entropy_std, norm_entropy_mean + norm_entropy_std, color='red', alpha=0.2)\n",
    "    ax.set_title(f'Simulation Results for {pop_name}')\n",
    "    ax.set_xlabel('Round')\n",
    "    ax.set_ylabel('Value')\n",
    "    ax.legend(loc='center right', fontsize='xx-small')\n",
    "    ax.grid()\n",
    "\n",
    "def plot_dynamics(ax: plt.Axes, sim_res: list, pop_name: str):\n",
    "    rounds = len(sim_res)\n",
    "    results = [result['votes_per'] for result in sim_res]\n",
    "    cand_results = np.reshape(results[:], (rounds, len(results[0])))\n",
    "\n",
    "    prev = 0\n",
    "    for i in range(len(results[0])):\n",
    "        ax.fill_between(range(rounds), prev, prev+cand_results[:, i], label=f'C {i}', color=COLOURS[i % len(COLOURS)], alpha=0.5)\n",
    "        prev += cand_results[:, i]\n",
    "\n",
    "    ax.set_xlabel('Round')\n",
    "    ax.set_ylabel('Votes')\n",
    "    ax.set_title(f'Vote Composition for {pop_name}')\n",
    "    ax.legend(loc='center right', fontsize='xx-small')\n",
    "    ax.grid()"
   ]
  },
  {
   "cell_type": "markdown",
   "id": "f7e0d09c",
   "metadata": {},
   "source": [
    "## Setup\n",
    "\n",
    "```python"
   ]
  },
  {
   "cell_type": "markdown",
   "id": "f1d4b694",
   "metadata": {},
   "source": [
    "#### Hyperparams"
   ]
  },
  {
   "cell_type": "code",
   "execution_count": null,
   "id": "b4019493",
   "metadata": {},
   "outputs": [],
   "source": [
    "n_sims = 9\n",
    "n_rounds = 10"
   ]
  },
  {
   "cell_type": "markdown",
   "id": "65978667",
   "metadata": {},
   "source": [
    "#### Model Parameters"
   ]
  },
  {
   "cell_type": "code",
   "execution_count": null,
   "id": "f11de797",
   "metadata": {},
   "outputs": [],
   "source": [
    "n_voters = 1000\n",
    "n_cands = 10\n",
    "\n",
    "params = {\n",
    "    'voter_strategy': 'uniform',\n",
    "    'candidate_approach': 'uniform',\n",
    "    'n_rounds': n_rounds,\n",
    "}"
   ]
  },
  {
   "cell_type": "markdown",
   "id": "8db1051e",
   "metadata": {},
   "source": [
    "#### Set up population of Uniform Random Voters & Random Candidates"
   ]
  },
  {
   "cell_type": "code",
   "execution_count": null,
   "id": "7b16564f",
   "metadata": {},
   "outputs": [],
   "source": [
    "votersH = [Voter(coords=[np.random.normal(0, 1, size=2)], id=i, strat=Strategy.HONEST, params=params) for i in range(n_voters)]\n",
    "candsO = [Candidate(coords=[float(np.random.uniform(-1, 1)) for _ in range(2)], id=i, approach=Approach.OFFENSIVE) for i in range(n_cands)]\n",
    "candsD = [Candidate(coords=[float(np.random.uniform(-1, 1)) for _ in range(2)], id=i, approach=Approach.DEFENSIVE) for i in range(n_cands)]\n",
    "candsM = [Candidate(coords=[float(np.random.uniform(-1, 1)) for _ in range(2)], id=i, approach=(Approach.OFFENSIVE if i%2 == 0 else Approach.DEFENSIVE)) for i in range(n_cands)]"
   ]
  },
  {
   "cell_type": "markdown",
   "id": "2e7a878e",
   "metadata": {},
   "source": [
    "##### Set up populations"
   ]
  },
  {
   "cell_type": "code",
   "execution_count": null,
   "id": "085f6393",
   "metadata": {},
   "outputs": [],
   "source": [
    "pop1 = Population(voters=votersH, candidates=candsO, params=params)\n",
    "pop2 = Population(voters=votersH, candidates=candsD, params=params)\n",
    "pop3 = Population(voters=votersH, candidates=candsM, params=params)\n",
    "\n",
    "pop_names = ['OFFENSIVE', 'DEFENSIVE', 'MIXED']\n",
    "\n"
   ]
  },
  {
   "cell_type": "markdown",
   "id": "47249349",
   "metadata": {},
   "source": [
    "# Run Simulations"
   ]
  },
  {
   "cell_type": "markdown",
   "id": "f0003951",
   "metadata": {},
   "source": [
    "## FPTP"
   ]
  },
  {
   "cell_type": "code",
   "execution_count": null,
   "id": "1ab85707",
   "metadata": {},
   "outputs": [],
   "source": [
    "\n",
    "res1_FPTP = []\n",
    "res2_FPTP = []\n",
    "res3_FPTP = []\n",
    "\n",
    "for i in range(n_sims):\n",
    "    pop1_int, pop2_int, pop3_int = copy.copy(pop1), copy.copy(pop2), copy.copy(pop3)\n",
    "    sim1 = Simulation(population = pop1_int, election=Election(population = pop1_int, params={'system': System.FPTP}))\n",
    "    sim2 = Simulation(population = pop2_int, election=Election(population = pop2_int, params={'system': System.FPTP}))\n",
    "    sim3 = Simulation(population = pop3_int, election=Election(population = pop3_int, params={'system': System.FPTP}))\n",
    "    \n",
    "    output1 = sim1.run_election_cycles(save_results=False, plot_results=False, make_gif=(i==0), verbose=False)\n",
    "    output2 = sim2.run_election_cycles(save_results=False, plot_results=False, make_gif=(i==0), verbose=False)\n",
    "    output3 = sim3.run_election_cycles(save_results=False, plot_results=False, make_gif=(i==0), verbose=False)\n",
    "    print(f\"Simulation {i+1} completed.\")\n",
    "    res1_FPTP.append(output1.get('results'))\n",
    "    res2_FPTP.append(output2.get('results'))\n",
    "    res3_FPTP.append(output3.get('results'))\n",
    "\n",
    "results_FPTP = [res1_FPTP, res2_FPTP, res3_FPTP]\n"
   ]
  },
  {
   "cell_type": "markdown",
   "id": "e8a0eef0",
   "metadata": {},
   "source": [
    "#### Plotting"
   ]
  },
  {
   "cell_type": "code",
   "execution_count": null,
   "id": "f37dc68e",
   "metadata": {},
   "outputs": [],
   "source": [
    "# extract stats and plot results\n",
    "fig1, axs1 = plt.subplots(1, 3, figsize=(20, 5))\n",
    "fig2, axs2 = plt.subplots(1, 3, figsize=(20, 5))\n",
    "for i, res in enumerate(results_FPTP):\n",
    "    plot_stats(axs1[i], res, n_sims, n_rounds, pop_names[i])\n",
    "    plot_dynamics(axs2[i], res[0], pop_names[i])\n",
    "fig1.suptitle(f'First-Past-The-Post n={n_voters}, c={n_cands}, r={n_rounds}')\n",
    "fig2.suptitle(f'First-Past-The-Post n={n_voters}, c={n_cands}, r={n_rounds}')\n",
    "fig1.savefig('./plots/anal2a/stats_FPTP.png')\n",
    "fig2.savefig('./plots/anal2a/dynamics_FPTP.png')\n"
   ]
  },
  {
   "cell_type": "markdown",
   "id": "fc4951ab",
   "metadata": {},
   "source": [
    "### Permanent Plot"
   ]
  },
  {
   "cell_type": "markdown",
   "id": "585821b9",
   "metadata": {},
   "source": [
    "![FPTP](../plots/anal2a/stats_fptp.png)"
   ]
  },
  {
   "cell_type": "markdown",
   "id": "1e4aa027",
   "metadata": {},
   "source": [
    "![FPTP dynamics](../plots/anal2a/dynamics_FPTP.png)"
   ]
  },
  {
   "cell_type": "markdown",
   "id": "ffd21d28",
   "metadata": {},
   "source": [
    "#### Clear sim objects"
   ]
  },
  {
   "cell_type": "code",
   "execution_count": null,
   "id": "27b4d2ee",
   "metadata": {},
   "outputs": [],
   "source": [
    "del pop1_int, pop2_int, pop3_int\n",
    "del sim1, sim2, sim3\n",
    "del output1, output2, output3"
   ]
  },
  {
   "cell_type": "markdown",
   "id": "848effc9",
   "metadata": {},
   "source": [
    "## Instant Runoff"
   ]
  },
  {
   "cell_type": "code",
   "execution_count": null,
   "id": "ada12e3f",
   "metadata": {},
   "outputs": [],
   "source": [
    "\n",
    "res1_IR = []\n",
    "res2_IR = []\n",
    "res3_IR = []\n",
    "\n",
    "for i in range(n_sims):\n",
    "    pop1_int, pop2_int, pop3_int = copy.copy(pop1), copy.copy(pop2), copy.copy(pop3)\n",
    "    sim1 = Simulation(population = pop1_int, election=Election(population = pop1_int, params={'system': System.INSTANT_RUNOFF}))\n",
    "    sim2 = Simulation(population = pop2_int, election=Election(population = pop2_int, params={'system': System.INSTANT_RUNOFF}))\n",
    "    sim3 = Simulation(population = pop3_int, election=Election(population = pop3_int, params={'system': System.INSTANT_RUNOFF}))\n",
    "\n",
    "    output1 = sim1.run_election_cycles(save_results=False, plot_results=False, make_gif=(i==0), verbose=False)\n",
    "    output2 = sim2.run_election_cycles(save_results=False, plot_results=False, make_gif=(i==0), verbose=False)\n",
    "    output3 = sim3.run_election_cycles(save_results=False, plot_results=False, make_gif=(i==0), verbose=False)\n",
    "\n",
    "    print(f\"Simulation {i+1} completed.\")\n",
    "    res1_IR.append(output1.get('results'))\n",
    "    res2_IR.append(output2.get('results'))\n",
    "    res3_IR.append(output3.get('results'))\n",
    "\n",
    "\n",
    "results_IR = [res1_IR, res2_IR, res3_IR]"
   ]
  },
  {
   "cell_type": "markdown",
   "id": "3159f85b",
   "metadata": {},
   "source": [
    "#### Plotting"
   ]
  },
  {
   "cell_type": "code",
   "execution_count": null,
   "id": "cc627fb1",
   "metadata": {},
   "outputs": [],
   "source": [
    "# extract stats and plot results\n",
    "fig1, axs1 = plt.subplots(1, 3, figsize=(20, 5))\n",
    "fig2, axs2 = plt.subplots(1, 3, figsize=(20, 5))\n",
    "for i, res in enumerate(results_IR):\n",
    "    plot_stats(axs1[i], res, n_sims, n_rounds, pop_names[i])\n",
    "    plot_dynamics(axs2[i], res[0], pop_names[i])\n",
    "\n",
    "fig1.suptitle(f'Instant Runoff n={n_voters}, c={n_cands}, r={n_rounds}')\n",
    "fig2.suptitle(f'Instant Runoff n={n_voters}, c={n_cands}, r={n_rounds}')\n",
    "fig1.savefig(f'./plots/anal2a/stats_IR.png')\n",
    "fig2.savefig(f'./plots/anal2a/dynamics_IR.png')\n",
    "\n"
   ]
  },
  {
   "cell_type": "markdown",
   "id": "3be9f659",
   "metadata": {},
   "source": [
    "### Permanent Plots"
   ]
  },
  {
   "cell_type": "markdown",
   "id": "83695e20",
   "metadata": {},
   "source": [
    "![Instant Runoff](../plots/anal2a/stats_IR.png)\n"
   ]
  },
  {
   "cell_type": "markdown",
   "id": "de4ee7a5",
   "metadata": {},
   "source": [
    "![Instant Runoff dynamics](../plots/anal2a/dynamics_IR.png)"
   ]
  },
  {
   "cell_type": "markdown",
   "id": "4c256463",
   "metadata": {},
   "source": [
    "##### Clear memory of sim objects"
   ]
  },
  {
   "cell_type": "code",
   "execution_count": null,
   "id": "498772a2",
   "metadata": {},
   "outputs": [],
   "source": [
    "del sim1, sim2, sim3\n",
    "del output1, output2, output3\n",
    "del pop1_int, pop2_int, pop3_int"
   ]
  },
  {
   "cell_type": "markdown",
   "id": "0fbe0cfd",
   "metadata": {},
   "source": [
    "## Approval"
   ]
  },
  {
   "cell_type": "code",
   "execution_count": null,
   "id": "324c40a5",
   "metadata": {},
   "outputs": [],
   "source": [
    "res1_A = []\n",
    "res2_A = []\n",
    "res3_A = []\n",
    "\n",
    "for i in range(n_sims):\n",
    "    pop1_int, pop2_int, pop3_int = copy.copy(pop1), copy.copy(pop2), copy.copy(pop3)\n",
    "    sim1 = Simulation(population = pop1_int, election=Election(population = pop1_int, params={'system': System.APPROVAL}))\n",
    "    sim2 = Simulation(population = pop2_int, election=Election(population = pop2_int, params={'system': System.APPROVAL}))\n",
    "    sim3 = Simulation(population = pop3_int, election=Election(population = pop3_int, params={'system': System.APPROVAL}))\n",
    "\n",
    "    \n",
    "    output1 = sim1.run_election_cycles(save_results=False, plot_results=False, make_gif=(i==0), verbose=False)\n",
    "    output2 = sim2.run_election_cycles(save_results=False, plot_results=False, make_gif=(i==0), verbose=False)\n",
    "    output3 = sim3.run_election_cycles(save_results=False, plot_results=False, make_gif=(i==0), verbose=False)\n",
    "\n",
    "    print(f\"Simulation {i+1} completed.\")\n",
    "    res1_A.append(output1.get('results'))\n",
    "    res2_A.append(output2.get('results'))\n",
    "    res3_A.append(output3.get('results'))\n",
    "\n",
    "\n",
    "results_AP = [res1_A, res2_A, res3_A]"
   ]
  },
  {
   "cell_type": "markdown",
   "id": "9ff37d46",
   "metadata": {},
   "source": [
    "#### Plotting"
   ]
  },
  {
   "cell_type": "code",
   "execution_count": null,
   "id": "7b9e56c9",
   "metadata": {},
   "outputs": [],
   "source": [
    "# extract stats and plot results\n",
    "fig1, axs1 = plt.subplots(1, 3, figsize=(20, 5))\n",
    "fig2, axs2 = plt.subplots(1, 3, figsize=(20, 5))\n",
    "for i, res in enumerate(results_AP):\n",
    "    plot_stats(axs1[i], res, n_sims, n_rounds, pop_names[i])\n",
    "    plot_dynamics(axs2[i], res[0], pop_names[i])\n",
    "\n",
    "fig1.suptitle(f'Approval Voting n={n_voters}, c={n_cands}, r={n_rounds}')\n",
    "fig2.suptitle(f'Approval Voting n={n_voters}, c={n_cands}, r={n_rounds}')\n",
    "fig1.savefig(f'./plots/anal2a/stats_AP.png')\n",
    "fig2.savefig(f'./plots/anal2a/dynamics_AP.png')\n"
   ]
  },
  {
   "cell_type": "markdown",
   "id": "4a61d312",
   "metadata": {},
   "source": [
    "### Permanent Plots"
   ]
  },
  {
   "cell_type": "markdown",
   "id": "a910cba3",
   "metadata": {},
   "source": [
    "![Approval Voting Stats](../plots/anal2a/stats_AP.png)"
   ]
  },
  {
   "cell_type": "markdown",
   "id": "616b2940",
   "metadata": {},
   "source": [
    "![Approval Voting](../plots/anal2a/dynamics_AP.png)"
   ]
  }
 ],
 "metadata": {
  "kernelspec": {
   "display_name": "Python 3",
   "language": "python",
   "name": "python3"
  },
  "language_info": {
   "codemirror_mode": {
    "name": "ipython",
    "version": 3
   },
   "file_extension": ".py",
   "mimetype": "text/x-python",
   "name": "python",
   "nbconvert_exporter": "python",
   "pygments_lexer": "ipython3",
   "version": "3.13.2"
  }
 },
 "nbformat": 4,
 "nbformat_minor": 5
}
