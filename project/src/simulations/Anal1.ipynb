{
 "cells": [
  {
   "cell_type": "markdown",
   "id": "386c35e1",
   "metadata": {},
   "source": [
    "# Analysis 1"
   ]
  },
  {
   "cell_type": "markdown",
   "id": "5a640bcb",
   "metadata": {},
   "source": [
    "Compare the outcomes of the elections for uniform distributions of voters and candidates and only honest agents."
   ]
  },
  {
   "cell_type": "markdown",
   "id": "f7e0d09c",
   "metadata": {},
   "source": [
    "## Setup\n",
    "\n",
    "```python"
   ]
  },
  {
   "cell_type": "code",
   "execution_count": null,
   "id": "5d9cd40e",
   "metadata": {},
   "outputs": [],
   "source": [
    "import numpy as np\n",
    "import matplotlib.pyplot as plt"
   ]
  },
  {
   "cell_type": "code",
   "execution_count": null,
   "id": "c994606d",
   "metadata": {
    "vscode": {
     "languageId": "shellscript"
    }
   },
   "outputs": [],
   "source": [
    "cd .."
   ]
  },
  {
   "cell_type": "code",
   "execution_count": null,
   "id": "692724c3",
   "metadata": {},
   "outputs": [],
   "source": [
    "from population import Population\n",
    "from simulation import Simulation\n",
    "from plotting import *\n",
    "from geometry import *\n",
    "from election import Election\n",
    "import copy\n",
    "\n",
    "from voter import Voter, Candidate, System, Strategy, Approach"
   ]
  },
  {
   "cell_type": "markdown",
   "id": "f1d4b694",
   "metadata": {},
   "source": [
    "#### Hyperparams"
   ]
  },
  {
   "cell_type": "code",
   "execution_count": null,
   "id": "b4019493",
   "metadata": {},
   "outputs": [],
   "source": [
    "n_sims = 9\n",
    "n_rounds = 30"
   ]
  },
  {
   "cell_type": "markdown",
   "id": "65978667",
   "metadata": {},
   "source": [
    "#### Model Parameters"
   ]
  },
  {
   "cell_type": "code",
   "execution_count": null,
   "id": "f11de797",
   "metadata": {},
   "outputs": [],
   "source": [
    "n_voters = 1000\n",
    "n_cands = 10\n",
    "\n",
    "params = {\n",
    "    'voter_strategy': 'uniform',\n",
    "    'candidate_approach': 'uniform',\n",
    "}"
   ]
  },
  {
   "cell_type": "markdown",
   "id": "8db1051e",
   "metadata": {},
   "source": [
    "#### Set up lists of Random/Honest Voters & Candidates"
   ]
  },
  {
   "cell_type": "code",
   "execution_count": null,
   "id": "7b16564f",
   "metadata": {},
   "outputs": [],
   "source": [
    "votersR = [Voter(coords=[np.random.uniform(-1, 1, size=2)], id=i, strat=Strategy.RANDOM, parameters=params) for i in range(n_voters)]\n",
    "votersH = [Voter(coords=[np.random.uniform(-1, 1, size=2)], id=i, strat=Strategy.HONEST, parameters=params) for i in range(n_voters)]\n",
    "candsR = [Candidate(coords=[np.random.uniform(-1, 1, size=2)], id=i, approach=Approach.RANDOM) for i in range(n_cands)]\n",
    "candsH =  [Candidate(coords=[np.random.uniform(-1, 1, size=2)], id=i, approach=Approach.HONEST) for i in range(n_cands)]"
   ]
  },
  {
   "cell_type": "markdown",
   "id": "20be7983",
   "metadata": {},
   "source": [
    "#### Initiate populations"
   ]
  },
  {
   "cell_type": "code",
   "execution_count": null,
   "id": "81fdf4b1",
   "metadata": {},
   "outputs": [],
   "source": [
    "pop1 = Population(voters=votersR, candidates=candsR, params=params)\n",
    "pop2 = Population(voters=votersH, candidates=candsH, params=params)\n",
    "pop3 = Population(voters=votersR, candidates=candsH, params=params)\n",
    "pop4 = Population(voters=votersH, candidates=candsR, params=params)\n"
   ]
  },
  {
   "cell_type": "markdown",
   "id": "47249349",
   "metadata": {},
   "source": [
    "## Run Simulations"
   ]
  },
  {
   "cell_type": "markdown",
   "id": "f0003951",
   "metadata": {},
   "source": [
    "### FPTP"
   ]
  },
  {
   "cell_type": "code",
   "execution_count": null,
   "id": "1ab85707",
   "metadata": {},
   "outputs": [],
   "source": [
    "\n",
    "res1_FPTP = []\n",
    "res2_FPTP = []\n",
    "res3_FPTP = []\n",
    "res4_FPTP = []\n",
    "for i in range(n_sims):\n",
    "    sim1 = Simulation(population = copy.copy(pop1), n_rounds=30, \n",
    "                                 election=Election(params=params, system=System.FPTP))\n",
    "    sim2 = Simulation(population = copy.copy(pop2), n_rounds=30, \n",
    "                                 election=Election(params=params, system=System.FPTP))\n",
    "    sim3 = Simulation(population = copy.copy(pop3), n_rounds=30, \n",
    "                                 election=Election(params=params, system=System.FPTP))\n",
    "    sim4 = Simulation(population = copy.copy(pop4), n_rounds=30, \n",
    "                                 election=Election(params=params, system=System.FPTP))\n",
    "\n",
    "    output1 = sim1.run_election_cycles(save_results=False, plot_results=False, make_gif=True)\n",
    "    output2 = sim2.run_election_cycles(save_results=False, plot_results=False, make_gif=True)\n",
    "    output3 = sim3.run_election_cycles(save_results=False, plot_results=False, make_gif=True)\n",
    "    output4 = sim4.run_election_cycles(save_results=False, plot_results=False, make_gif=True)\n",
    "\n",
    "    print(f\"Simulation {i+1} completed.\")\n",
    "    res1_FPTP.append(output1.get('results'))\n",
    "    res2_FPTP.append(output2.get('results'))\n",
    "    res3_FPTP.append(output3.get('results'))\n",
    "    res4_FPTP.append(output4.get('results'))\n",
    "    "
   ]
  },
  {
   "cell_type": "markdown",
   "id": "e8a0eef0",
   "metadata": {},
   "source": [
    "#### Plotting"
   ]
  },
  {
   "cell_type": "code",
   "execution_count": null,
   "id": "f37dc68e",
   "metadata": {},
   "outputs": [],
   "source": [
    "# plot random results\n",
    "plot_sim_dynamics(np.random.choice(res1), output_path=\"results_IN.png\")"
   ]
  },
  {
   "cell_type": "markdown",
   "id": "848effc9",
   "metadata": {},
   "source": [
    "### Instant Runoff"
   ]
  },
  {
   "cell_type": "code",
   "execution_count": null,
   "id": "ada12e3f",
   "metadata": {},
   "outputs": [],
   "source": [
    "\n",
    "res1_IR = []\n",
    "res2_IR = []\n",
    "res3_IR = []\n",
    "res4_IR = []\n",
    "for i in range(n_sims):\n",
    "    sim1 = Simulation(population = copy.copy(pop1), n_rounds=30, \n",
    "                                 election=Election(params=params, system=System.INSTANT_RUNOFF))\n",
    "    sim2 = Simulation(population = copy.copy(pop2), n_rounds=30, \n",
    "                                 election=Election(params=params, system=System.INSTANT_RUNOFF))\n",
    "    sim3 = Simulation(population = copy.copy(pop3), n_rounds=30, \n",
    "                                 election=Election(params=params, system=System.INSTANT_RUNOFF))\n",
    "    sim4 = Simulation(population = copy.copy(pop4), n_rounds=30, \n",
    "                                 election=Election(params=params, system=System.INSTANT_RUNOFF))\n",
    "\n",
    "    output1 = sim1.run_election_cycles(save_results=False, plot_results=False, make_gif=True)\n",
    "    output2 = sim2.run_election_cycles(save_results=False, plot_results=False, make_gif=True)\n",
    "    output3 = sim3.run_election_cycles(save_results=False, plot_results=False, make_gif=True)\n",
    "    output4 = sim4.run_election_cycles(save_results=False, plot_results=False, make_gif=True)\n",
    "\n",
    "    print(f\"Simulation {i+1} completed.\")\n",
    "    res1_IR.append(output1.get('results'))\n",
    "    res2_IR.append(output2.get('results'))\n",
    "    res3_IR.append(output3.get('results'))\n",
    "    res4_IR.append(output4.get('results'))"
   ]
  },
  {
   "cell_type": "markdown",
   "id": "3159f85b",
   "metadata": {},
   "source": [
    "#### Plotting"
   ]
  },
  {
   "cell_type": "markdown",
   "id": "0fbe0cfd",
   "metadata": {},
   "source": [
    "### Approval"
   ]
  },
  {
   "cell_type": "code",
   "execution_count": null,
   "id": "324c40a5",
   "metadata": {},
   "outputs": [],
   "source": [
    "\n",
    "res1_AP = []\n",
    "res2_AP = []\n",
    "res3_AP = []\n",
    "res4_AP = []\n",
    "for i in range(n_sims):\n",
    "    sim1 = Simulation(population = copy.copy(pop1), n_rounds=30, \n",
    "                                 election=Election(params=params, system=System.APPROVAL))\n",
    "    sim2 = Simulation(population = copy.copy(pop2), n_rounds=30, \n",
    "                                 election=Election(params=params, system=System.APPROVAL))\n",
    "    sim3 = Simulation(population = copy.copy(pop3), n_rounds=30, \n",
    "                                 election=Election(params=params, system=System.APPROVAL))\n",
    "    sim4 = Simulation(population = copy.copy(pop4), n_rounds=30, \n",
    "                                 election=Election(params=params, system=System.APPROVAL))\n",
    "\n",
    "    output1 = sim1.run_election_cycles(save_results=False, plot_results=False, make_gif=True)\n",
    "    output2 = sim2.run_election_cycles(save_results=False, plot_results=False, make_gif=True)\n",
    "    output3 = sim3.run_election_cycles(save_results=False, plot_results=False, make_gif=True)\n",
    "    output4 = sim4.run_election_cycles(save_results=False, plot_results=False, make_gif=True)\n",
    "\n",
    "    print(f\"Simulation {i+1} completed.\")\n",
    "    res1_AP.append(output1.get('results'))\n",
    "    res2_AP.append(output2.get('results'))\n",
    "    res3_AP.append(output3.get('results'))\n",
    "    res4_AP.append(output4.get('results'))"
   ]
  },
  {
   "cell_type": "markdown",
   "id": "9ff37d46",
   "metadata": {},
   "source": [
    "#### Plotting"
   ]
  }
 ],
 "metadata": {
  "kernelspec": {
   "display_name": "NatComp",
   "language": "python",
   "name": "python3"
  },
  "language_info": {
   "codemirror_mode": {
    "name": "ipython",
    "version": 3
   },
   "file_extension": ".py",
   "mimetype": "text/x-python",
   "name": "python",
   "nbconvert_exporter": "python",
   "pygments_lexer": "ipython3",
   "version": "3.13.2"
  }
 },
 "nbformat": 4,
 "nbformat_minor": 5
}
