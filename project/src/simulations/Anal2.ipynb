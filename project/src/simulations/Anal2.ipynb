{
 "cells": [
  {
   "cell_type": "markdown",
   "id": "386c35e1",
   "metadata": {},
   "source": [
    "# Analysis 2"
   ]
  },
  {
   "cell_type": "markdown",
   "id": "5a640bcb",
   "metadata": {},
   "source": [
    "Compare the outcomes of the elections for uniform distributions of voters and candidates and only honest agents."
   ]
  },
  {
   "cell_type": "markdown",
   "id": "f7e0d09c",
   "metadata": {},
   "source": [
    "## Setup\n",
    "\n",
    "```python"
   ]
  },
  {
   "cell_type": "code",
   "execution_count": null,
   "id": "5d9cd40e",
   "metadata": {},
   "outputs": [],
   "source": [
    "import numpy as np\n",
    "import matplotlib.pyplot as plt"
   ]
  },
  {
   "cell_type": "code",
   "execution_count": null,
   "id": "c994606d",
   "metadata": {
    "vscode": {
     "languageId": "shellscript"
    }
   },
   "outputs": [],
   "source": [
    "cd .."
   ]
  },
  {
   "cell_type": "code",
   "execution_count": null,
   "id": "692724c3",
   "metadata": {},
   "outputs": [],
   "source": [
    "from population import Population\n",
    "from simulation import Simulation\n",
    "from plotting import *\n",
    "from geometry import *\n",
    "from election import Election\n",
    "import copy\n",
    "\n",
    "from agents import Voter, Candidate, System, Strategy, Approach"
   ]
  },
  {
   "cell_type": "markdown",
   "id": "f1d4b694",
   "metadata": {},
   "source": [
    "#### Hyperparams"
   ]
  },
  {
   "cell_type": "code",
   "execution_count": null,
   "id": "b4019493",
   "metadata": {},
   "outputs": [],
   "source": [
    "n_sims = 9\n",
    "n_rounds = 30"
   ]
  },
  {
   "cell_type": "markdown",
   "id": "65978667",
   "metadata": {},
   "source": [
    "#### Model Parameters"
   ]
  },
  {
   "cell_type": "code",
   "execution_count": null,
   "id": "f11de797",
   "metadata": {},
   "outputs": [],
   "source": [
    "n_voters = 1000\n",
    "n_cands = 10\n",
    "\n",
    "params = {\n",
    "    'voter_strategy': 'uniform',\n",
    "    'candidate_approach': 'uniform',\n",
    "}"
   ]
  },
  {
   "cell_type": "markdown",
   "id": "8db1051e",
   "metadata": {},
   "source": [
    "#### Set up population of Honest Voters & Honest Candidates"
   ]
  },
  {
   "cell_type": "code",
   "execution_count": null,
   "id": "7b16564f",
   "metadata": {},
   "outputs": [],
   "source": [
    "voters1 = [Voter(coords=np.random.uniform(-1, 1, size=2), id=i, strat=Strategy.HONEST, parameters=params) for i in range(n_voters)]\n",
    "cands1 = [Candidate(coords=np.random.uniform(-1, 1, size=2), id=i, approach=Approach.HONEST) for i in range(n_cands)]\n",
    "pop1 = Population(voters=voters1, candidates=cands1, params=params)"
   ]
  },
  {
   "cell_type": "markdown",
   "id": "47249349",
   "metadata": {},
   "source": [
    "## Run Simulations"
   ]
  },
  {
   "cell_type": "markdown",
   "id": "f0003951",
   "metadata": {},
   "source": [
    "### FPTP"
   ]
  },
  {
   "cell_type": "code",
   "execution_count": null,
   "id": "1ab85707",
   "metadata": {},
   "outputs": [],
   "source": [
    "\n",
    "res1 = []\n",
    "for i in range(n_sims):\n",
    "    sim1 = Simulation(population = copy.copy(pop1), n_rounds=100,\n",
    "                                 election=Election(params=params, system=System.FPTP))\n",
    "\n",
    "    output = sim1.run_election_cycles(save_results=False, plot_results=False, make_gif=True)\n",
    "    print(f\"Simulation {i+1} completed.\")\n",
    "    res1.append(output.get('results'))\n"
   ]
  },
  {
   "cell_type": "markdown",
   "id": "e8a0eef0",
   "metadata": {},
   "source": [
    "#### Plotting"
   ]
  },
  {
   "cell_type": "code",
   "execution_count": null,
   "id": "f37dc68e",
   "metadata": {},
   "outputs": [],
   "source": [
    "# plot random results\n",
    "plot_sim_dynamics(np.random.choice(res1), output_path=\"results_FTPT.png\")"
   ]
  },
  {
   "cell_type": "markdown",
   "id": "848effc9",
   "metadata": {},
   "source": [
    "### Instant Runoff"
   ]
  },
  {
   "cell_type": "code",
   "execution_count": null,
   "id": "ada12e3f",
   "metadata": {},
   "outputs": [],
   "source": [
    "sim2 = Simulation(population = pop1.copy(), n_rounds=100, params=params,\n",
    "                                 election=Election(params=params, system=System.INSTANT_RUNOFF))\n",
    "\n",
    "res2 = []\n",
    "for i in range(n_sims):\n",
    "    sim2.run_election_cycles()\n",
    "    output = sim2.run_election_cycles()\n",
    "    res2.append(output.get('results'))"
   ]
  },
  {
   "cell_type": "markdown",
   "id": "3159f85b",
   "metadata": {},
   "source": [
    "#### Plotting"
   ]
  },
  {
   "cell_type": "markdown",
   "id": "0fbe0cfd",
   "metadata": {},
   "source": [
    "### Approval"
   ]
  },
  {
   "cell_type": "code",
   "execution_count": null,
   "id": "324c40a5",
   "metadata": {},
   "outputs": [],
   "source": [
    "sim3 = Simulation(population = pop1.copy(), n_rounds=100, params=params,\n",
    "                                 election=Election(params=params, system=System.APPROVAL))\n",
    "\n",
    "res3 = []\n",
    "for i in range(n_sims):\n",
    "    sim3.run_election_cycles()\n",
    "    output = sim3.run_election_cycles()\n",
    "    res3.append(output.get('results'))"
   ]
  },
  {
   "cell_type": "markdown",
   "id": "9ff37d46",
   "metadata": {},
   "source": [
    "#### Plotting"
   ]
  }
 ],
 "metadata": {
  "kernelspec": {
   "display_name": "NatComp",
   "language": "python",
   "name": "python3"
  },
  "language_info": {
   "codemirror_mode": {
    "name": "ipython",
    "version": 3
   },
   "file_extension": ".py",
   "mimetype": "text/x-python",
   "name": "python",
   "nbconvert_exporter": "python",
   "pygments_lexer": "ipython3",
   "version": "3.13.2"
  }
 },
 "nbformat": 4,
 "nbformat_minor": 5
}
