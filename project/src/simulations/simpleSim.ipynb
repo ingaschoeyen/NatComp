{
 "cells": [
  {
   "cell_type": "markdown",
   "id": "d45952cc",
   "metadata": {},
   "source": [
    "# Simple Election Simulation"
   ]
  },
  {
   "cell_type": "markdown",
   "id": "1187db2d",
   "metadata": {},
   "source": [
    "Here, we demonstrate a simple election simulation using the package we have coded.\n",
    "\n",
    "Specifically, we demonstrate how to:\n",
    "\n",
    "1. Create a simple election with candidates and voters.\n",
    "2. Simulate the election process.\n",
    "3. Display the results of the election.\n",
    "4. Compare the results of different voting methods.\n"
   ]
  },
  {
   "cell_type": "code",
   "execution_count": null,
   "id": "1781c2df",
   "metadata": {},
   "outputs": [],
   "source": [
    "from src.simulation import Simulation"
   ]
  }
 ],
 "metadata": {
  "language_info": {
   "name": "python"
  }
 },
 "nbformat": 4,
 "nbformat_minor": 5
}
