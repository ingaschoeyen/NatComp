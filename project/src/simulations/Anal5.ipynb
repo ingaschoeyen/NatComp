{
 "cells": [
  {
   "cell_type": "markdown",
   "id": "386c35e1",
   "metadata": {},
   "source": [
    "# Analysis 5"
   ]
  },
  {
   "cell_type": "markdown",
   "id": "5a640bcb",
   "metadata": {},
   "source": [
    "Compare the outcomes of the elections for uniform distributions of voters and candidates and only honest agents."
   ]
  },
  {
   "cell_type": "markdown",
   "id": "f7e0d09c",
   "metadata": {},
   "source": [
    "## Setup\n",
    "\n",
    "```python"
   ]
  },
  {
   "cell_type": "code",
   "execution_count": 1,
   "id": "5d9cd40e",
   "metadata": {},
   "outputs": [],
   "source": [
    "import numpy as np\n",
    "import matplotlib.pyplot as plt"
   ]
  },
  {
   "cell_type": "code",
   "execution_count": 2,
   "id": "c994606d",
   "metadata": {
    "vscode": {
     "languageId": "shellscript"
    }
   },
   "outputs": [
    {
     "name": "stdout",
     "output_type": "stream",
     "text": [
      "/Users/ingaschoyen/NatComp/project/src\n"
     ]
    },
    {
     "name": "stderr",
     "output_type": "stream",
     "text": [
      "/Users/ingaschoyen/miniforge3/envs/NatComp/lib/python3.13/site-packages/IPython/core/magics/osm.py:417: UserWarning: This is now an optional IPython functionality, setting dhist requires you to install the `pickleshare` library.\n",
      "  self.shell.db['dhist'] = compress_dhist(dhist)[-100:]\n"
     ]
    }
   ],
   "source": [
    "cd .."
   ]
  },
  {
   "cell_type": "code",
   "execution_count": 11,
   "id": "692724c3",
   "metadata": {},
   "outputs": [],
   "source": [
    "from population import Population\n",
    "from simulation import Simulation\n",
    "from plotting import *\n",
    "from geometry import *\n",
    "from election import Election\n",
    "import copy\n",
    "\n",
    "from voter import Voter, Candidate, System, Strategy, Approach"
   ]
  },
  {
   "cell_type": "markdown",
   "id": "f1d4b694",
   "metadata": {},
   "source": [
    "#### Hyperparams"
   ]
  },
  {
   "cell_type": "code",
   "execution_count": 6,
   "id": "b4019493",
   "metadata": {},
   "outputs": [],
   "source": [
    "n_sims = 9\n",
    "n_rounds = 30"
   ]
  },
  {
   "cell_type": "markdown",
   "id": "65978667",
   "metadata": {},
   "source": [
    "#### Model Parameters"
   ]
  },
  {
   "cell_type": "code",
   "execution_count": 7,
   "id": "f11de797",
   "metadata": {},
   "outputs": [],
   "source": [
    "n_voters = 1000\n",
    "n_cands = 10\n",
    "\n",
    "params = {\n",
    "    'voter_strategy': 'uniform',\n",
    "    'candidate_approach': 'uniform',\n",
    "}"
   ]
  },
  {
   "cell_type": "markdown",
   "id": "8db1051e",
   "metadata": {},
   "source": [
    "#### Set up population of Honest Voters & Honest Candidates"
   ]
  },
  {
   "cell_type": "code",
   "execution_count": 9,
   "id": "7b16564f",
   "metadata": {},
   "outputs": [],
   "source": [
    "voters1 = [Voter(coords=np.random.uniform(-1, 1, size=2), id=i, strat=Strategy.HONEST, parameters=params) for i in range(n_voters)]\n",
    "cands1 = [Candidate(coords=np.random.uniform(-1, 1, size=2), id=i, approach=Approach.HONEST) for i in range(n_cands)]\n",
    "pop1 = Population(voters=voters1, candidates=cands1, params=params)"
   ]
  },
  {
   "cell_type": "markdown",
   "id": "47249349",
   "metadata": {},
   "source": [
    "## Run Simulations"
   ]
  },
  {
   "cell_type": "markdown",
   "id": "f0003951",
   "metadata": {},
   "source": [
    "### FPTP"
   ]
  },
  {
   "cell_type": "code",
   "execution_count": 13,
   "id": "1ab85707",
   "metadata": {},
   "outputs": [
    {
     "name": "stdout",
     "output_type": "stream",
     "text": [
      "Simulation initialized with 100 rounds and 5 polls per round.\n",
      "Running round 1/100\n"
     ]
    },
    {
     "ename": "IndexError",
     "evalue": "invalid index to scalar variable.",
     "output_type": "error",
     "traceback": [
      "\u001b[0;31m---------------------------------------------------------------------------\u001b[0m",
      "\u001b[0;31mIndexError\u001b[0m                                Traceback (most recent call last)",
      "Cell \u001b[0;32mIn[13], line 6\u001b[0m\n\u001b[1;32m      2\u001b[0m \u001b[38;5;28;01mfor\u001b[39;00m i \u001b[38;5;129;01min\u001b[39;00m \u001b[38;5;28mrange\u001b[39m(n_sims):\n\u001b[1;32m      3\u001b[0m     sim1 \u001b[38;5;241m=\u001b[39m Simulation(population \u001b[38;5;241m=\u001b[39m copy\u001b[38;5;241m.\u001b[39mcopy(pop1), n_rounds\u001b[38;5;241m=\u001b[39m\u001b[38;5;241m100\u001b[39m, \n\u001b[1;32m      4\u001b[0m                                  election\u001b[38;5;241m=\u001b[39mElection(params\u001b[38;5;241m=\u001b[39mparams, system\u001b[38;5;241m=\u001b[39mSystem\u001b[38;5;241m.\u001b[39mFPTP))\n\u001b[0;32m----> 6\u001b[0m     output \u001b[38;5;241m=\u001b[39m sim1\u001b[38;5;241m.\u001b[39mrun_election_cycles(save_results\u001b[38;5;241m=\u001b[39m\u001b[38;5;28;01mFalse\u001b[39;00m, plot_results\u001b[38;5;241m=\u001b[39m\u001b[38;5;28;01mFalse\u001b[39;00m, make_gif\u001b[38;5;241m=\u001b[39m\u001b[38;5;28;01mTrue\u001b[39;00m)\n\u001b[1;32m      7\u001b[0m     \u001b[38;5;28mprint\u001b[39m(\u001b[38;5;124mf\u001b[39m\u001b[38;5;124m\"\u001b[39m\u001b[38;5;124mSimulation \u001b[39m\u001b[38;5;132;01m{\u001b[39;00mi\u001b[38;5;241m+\u001b[39m\u001b[38;5;241m1\u001b[39m\u001b[38;5;132;01m}\u001b[39;00m\u001b[38;5;124m completed.\u001b[39m\u001b[38;5;124m\"\u001b[39m)\n\u001b[1;32m      8\u001b[0m     res1\u001b[38;5;241m.\u001b[39mappend(output\u001b[38;5;241m.\u001b[39mget(\u001b[38;5;124m'\u001b[39m\u001b[38;5;124mresults\u001b[39m\u001b[38;5;124m'\u001b[39m))\n",
      "File \u001b[0;32m~/NatComp/project/src/simulation.py:62\u001b[0m, in \u001b[0;36mSimulation.run_election_cycles\u001b[0;34m(self, save_results, plot_results, make_gif)\u001b[0m\n\u001b[1;32m     60\u001b[0m population\u001b[38;5;241m.\u001b[39mupdate_voters()\n\u001b[1;32m     61\u001b[0m \u001b[38;5;28;01mfor\u001b[39;00m i \u001b[38;5;129;01min\u001b[39;00m \u001b[38;5;28mrange\u001b[39m(\u001b[38;5;28mself\u001b[39m\u001b[38;5;241m.\u001b[39mn_polls):\n\u001b[0;32m---> 62\u001b[0m     polls, avg_voter_pos \u001b[38;5;241m=\u001b[39m population\u001b[38;5;241m.\u001b[39mpolls()\n\u001b[1;32m     63\u001b[0m     population\u001b[38;5;241m.\u001b[39mcampaign(avg_voter_position\u001b[38;5;241m=\u001b[39mavg_voter_pos, polls\u001b[38;5;241m=\u001b[39mpolls)\n\u001b[1;32m     64\u001b[0m     population\u001b[38;5;241m.\u001b[39mupdate_voter_opinions(polls\u001b[38;5;241m=\u001b[39mpolls)\n",
      "File \u001b[0;32m~/NatComp/project/src/population.py:138\u001b[0m, in \u001b[0;36mPopulation.polls\u001b[0;34m(self, candidates)\u001b[0m\n\u001b[1;32m    135\u001b[0m     \u001b[38;5;66;03m# Increment the vote count for the top candidate\u001b[39;00m\n\u001b[1;32m    136\u001b[0m     vote_counts[top_candidate_index] \u001b[38;5;241m+\u001b[39m\u001b[38;5;241m=\u001b[39m \u001b[38;5;241m1\u001b[39m\n\u001b[1;32m    137\u001b[0m     avg_voter_position[top_candidate_index] \u001b[38;5;241m=\u001b[39m (\n\u001b[0;32m--> 138\u001b[0m         avg_voter_position[top_candidate_index][\u001b[38;5;241m0\u001b[39m] \u001b[38;5;241m+\u001b[39m voter\u001b[38;5;241m.\u001b[39mcoords[\u001b[38;5;241m0\u001b[39m][\u001b[38;5;241m0\u001b[39m],\n\u001b[1;32m    139\u001b[0m         avg_voter_position[top_candidate_index][\u001b[38;5;241m1\u001b[39m] \u001b[38;5;241m+\u001b[39m voter\u001b[38;5;241m.\u001b[39mcoords[\u001b[38;5;241m0\u001b[39m][\u001b[38;5;241m1\u001b[39m]\n\u001b[1;32m    140\u001b[0m     )\n\u001b[1;32m    141\u001b[0m \u001b[38;5;66;03m# Normalize vote counts to percentages\u001b[39;00m\n\u001b[1;32m    142\u001b[0m polls \u001b[38;5;241m=\u001b[39m [votes \u001b[38;5;241m/\u001b[39m n_polls \u001b[38;5;28;01mfor\u001b[39;00m votes \u001b[38;5;129;01min\u001b[39;00m vote_counts]\n",
      "\u001b[0;31mIndexError\u001b[0m: invalid index to scalar variable."
     ]
    }
   ],
   "source": [
    "\n",
    "res1 = []\n",
    "for i in range(n_sims):\n",
    "    sim1 = Simulation(population = copy.copy(pop1), n_rounds=100, \n",
    "                                 election=Election(params=params, system=System.FPTP))\n",
    "\n",
    "    output = sim1.run_election_cycles(save_results=False, plot_results=False, make_gif=True)\n",
    "    print(f\"Simulation {i+1} completed.\")\n",
    "    res1.append(output.get('results'))\n",
    "    "
   ]
  },
  {
   "cell_type": "markdown",
   "id": "e8a0eef0",
   "metadata": {},
   "source": [
    "#### Plotting"
   ]
  },
  {
   "cell_type": "code",
   "execution_count": null,
   "id": "f37dc68e",
   "metadata": {},
   "outputs": [],
   "source": [
    "# plot random results\n",
    "plot_sim_dynamics(np.random.choice(res1), output_path=\"results_FTPT.png\")"
   ]
  },
  {
   "cell_type": "markdown",
   "id": "848effc9",
   "metadata": {},
   "source": [
    "### Instant Runoff"
   ]
  },
  {
   "cell_type": "code",
   "execution_count": null,
   "id": "ada12e3f",
   "metadata": {},
   "outputs": [],
   "source": [
    "sim2 = Simulation(population = pop1.copy(), n_rounds=100, params=params, \n",
    "                                 election=Election(params=params, system=System.INSTANT_RUNOFF))\n",
    "\n",
    "res2 = []\n",
    "for i in range(n_sims):\n",
    "    sim2.run_election_cycles()\n",
    "    output = sim2.run_election_cycles()\n",
    "    res2.append(output.get('results'))"
   ]
  },
  {
   "cell_type": "markdown",
   "id": "3159f85b",
   "metadata": {},
   "source": [
    "#### Plotting"
   ]
  },
  {
   "cell_type": "markdown",
   "id": "0fbe0cfd",
   "metadata": {},
   "source": [
    "### Approval"
   ]
  },
  {
   "cell_type": "code",
   "execution_count": null,
   "id": "324c40a5",
   "metadata": {},
   "outputs": [],
   "source": [
    "sim3 = Simulation(population = pop1.copy(), n_rounds=100, params=params, \n",
    "                                 election=Election(params=params, system=System.APPROVAL))\n",
    "\n",
    "res3 = []\n",
    "for i in range(n_sims):\n",
    "    sim3.run_election_cycles()\n",
    "    output = sim3.run_election_cycles()\n",
    "    res3.append(output.get('results'))"
   ]
  },
  {
   "cell_type": "markdown",
   "id": "9ff37d46",
   "metadata": {},
   "source": [
    "#### Plotting"
   ]
  }
 ],
 "metadata": {
  "kernelspec": {
   "display_name": "NatComp",
   "language": "python",
   "name": "python3"
  },
  "language_info": {
   "codemirror_mode": {
    "name": "ipython",
    "version": 3
   },
   "file_extension": ".py",
   "mimetype": "text/x-python",
   "name": "python",
   "nbconvert_exporter": "python",
   "pygments_lexer": "ipython3",
   "version": "3.13.2"
  }
 },
 "nbformat": 4,
 "nbformat_minor": 5
}
