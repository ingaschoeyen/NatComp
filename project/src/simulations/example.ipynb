{
 "cells": [
  {
   "cell_type": "markdown",
   "id": "386c35e1",
   "metadata": {},
   "source": [
    "# Analysis 1"
   ]
  },
  {
   "cell_type": "markdown",
   "id": "f7e0d09c",
   "metadata": {},
   "source": [
    "## Setup"
   ]
  },
  {
   "cell_type": "markdown",
   "id": "baddae3a",
   "metadata": {},
   "source": [
    "### External libraries"
   ]
  },
  {
   "cell_type": "code",
   "execution_count": null,
   "id": "5d9cd40e",
   "metadata": {},
   "outputs": [],
   "source": [
    "import numpy as np\n",
    "import matplotlib.pyplot as plt\n",
    "import copy"
   ]
  },
  {
   "cell_type": "markdown",
   "id": "e14aa533",
   "metadata": {},
   "source": [
    "### Project modules"
   ]
  },
  {
   "cell_type": "code",
   "execution_count": null,
   "id": "e73284fc",
   "metadata": {},
   "outputs": [],
   "source": [
    "cd .."
   ]
  },
  {
   "cell_type": "code",
   "execution_count": null,
   "id": "692724c3",
   "metadata": {},
   "outputs": [],
   "source": [
    "from population import Population, Initialization\n",
    "from simulation import Simulation\n",
    "from plotting import *\n",
    "from geometry import *\n",
    "from election import Election\n",
    "from agents import Voter, Candidate, System, Strategy, Approach"
   ]
  },
  {
   "cell_type": "markdown",
   "id": "f1d4b694",
   "metadata": {},
   "source": [
    "#### Parameters"
   ]
  },
  {
   "cell_type": "code",
   "execution_count": null,
   "id": "b4019493",
   "metadata": {},
   "outputs": [],
   "source": [
    "params = {\n",
    "    # Election parameters\n",
    "    \"system\" : System.INSTANT_RUNOFF,   # Electoral system, one of FPTP INSTANT_RUNOFF APPROVAL\n",
    "    \"threshold\" : 0.1,                  # Percentage threshold for getting elected to the parliament\n",
    "    \"dist_metric\" : distance_euclid,    # Distance metric\n",
    "    # Simulation parameters\n",
    "    \"n_rounds\": 10,             # Number of election rounds\n",
    "    \"n_polls\": 5,               # Number of polling rounds between elections\n",
    "    # Population parameters\n",
    "    \"dimension\": 2,             # Dimension of the space in which voters and candidates are located\n",
    "    \"low\": -1,                  # Lower bound for the uniform distribution of voter positions\n",
    "    \"high\": 1,                  # Upper bound for the uniform distribution of voter positions\n",
    "    \"mu\": 0,                    # Mean for the normal distribution of voter positions\n",
    "    \"sigma\": 1,\n",
    "    \"cand_dist\": Initialization.UNIFORM,    # Distribution type for candidate positions: UNIFORM NORMAL CLUSTER CUSTOM\n",
    "    \"n_candidates\": 10,                     # Number of candidates in the election\n",
    "    \"cand_approach_dist\": {\n",
    "        Approach.RANDOM : 0.05,\n",
    "        Approach.HONEST : 0.45,\n",
    "        Approach.DEFENSIVE : 0.25,\n",
    "        Approach.OFFENSIVE : 0.25\n",
    "    },\n",
    "    \"voter_dist\": Initialization.UNIFORM,   # Distribution type for voter positions: UNIFORM NORMAL CLUSTER CUSTOM\n",
    "    \"n_voters\": 200,                        # Number of voters in the population\n",
    "    \"voter_strat_dist\": {\n",
    "        Strategy.RANDOM : 0.05,\n",
    "        Strategy.HONEST : 0.10,\n",
    "        Strategy.POPULIST : 0.10,\n",
    "        Strategy.REALIST : 0.50,\n",
    "        Strategy.LOYAL : 0.25,\n",
    "    },\n",
    "    \"use_local_neighborhood\": False,         # Whether to use local neighborhood for updating voter opinions\n",
    "    \"neighborhood_radius\": 0.2,             # Radius for the local neighborhood around\n",
    "    \"per_polls\": 0.1,                       # Percentage of the subsample size when polling\n",
    "    # Voter parameters\n",
    "    \"best_preference\": 1.0,     # Weight of distance to best candidate for toleration radius\n",
    "    \"worst_tolerance\": 0.8,     # Weight of distance to worst candidate for toleration radius\n",
    "    \"campaign_weight\": 0.4,     # Weight of campaign message in the voter's decision\n",
    "    \"poll_weight\": 0.2,         # Weight of polls in the voter's decision\n",
    "    \"social_weight\": 0.6,       # Weight of social influence in the voter's decision\n",
    "    # Candidate parameters\n",
    "    \"approach_weight\": 0.005,   # Weight of the approach in the candidate's position update\n",
    "}"
   ]
  },
  {
   "cell_type": "markdown",
   "id": "92028a89",
   "metadata": {},
   "source": [
    "## Simulations setup"
   ]
  },
  {
   "cell_type": "code",
   "execution_count": null,
   "id": "6a62c0cc",
   "metadata": {},
   "outputs": [],
   "source": [
    "total_output = []\n",
    "population = Population(params=params)\n",
    "n_sims = 1"
   ]
  },
  {
   "cell_type": "markdown",
   "id": "8db1051e",
   "metadata": {},
   "source": [
    "## Run Simulations"
   ]
  },
  {
   "cell_type": "markdown",
   "id": "f0003951",
   "metadata": {},
   "source": [
    "### FPTP"
   ]
  },
  {
   "cell_type": "code",
   "execution_count": null,
   "id": "1ab85707",
   "metadata": {},
   "outputs": [],
   "source": [
    "params['system'] = System.FPTP\n",
    "voter_strategies, candidate_approaches = population.get_strategies()\n",
    "sim = Simulation(population=population, params=params)\n",
    "res_fptp = []\n",
    "for i in range(n_sims):\n",
    "    sim1 = Simulation(population=copy.copy(population), params=params)\n",
    "    output = sim1.run_election_cycles(save_results=False, plot_results=False, make_gif=False, delete_frames=True)\n",
    "    res_fptp.append(output.get('results'))\n",
    "    print(f\"Simulation {i+1} completed.\")\n"
   ]
  },
  {
   "cell_type": "markdown",
   "id": "e8a0eef0",
   "metadata": {},
   "source": [
    "#### Plotting"
   ]
  },
  {
   "cell_type": "code",
   "execution_count": null,
   "id": "f37dc68e",
   "metadata": {},
   "outputs": [],
   "source": [
    "plot_sim_dynamics(res_fptp[0], output_path=\"results_FPTP.png\")"
   ]
  }
 ],
 "metadata": {
  "kernelspec": {
   "display_name": "Python 3",
   "language": "python",
   "name": "python3"
  },
  "language_info": {
   "codemirror_mode": {
    "name": "ipython",
    "version": 3
   },
   "file_extension": ".py",
   "mimetype": "text/x-python",
   "name": "python",
   "nbconvert_exporter": "python",
   "pygments_lexer": "ipython3",
   "version": "3.10.12"
  }
 },
 "nbformat": 4,
 "nbformat_minor": 5
}
