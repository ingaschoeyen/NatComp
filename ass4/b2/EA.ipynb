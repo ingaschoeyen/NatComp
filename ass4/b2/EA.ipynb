{
 "cells": [
  {
   "cell_type": "markdown",
   "id": "a6b53a61",
   "metadata": {},
   "source": [
    "# Assignment 4: Evolutionary Algorithms"
   ]
  },
  {
   "cell_type": "code",
   "execution_count": 2,
   "id": "339b5e5a",
   "metadata": {
    "vscode": {
     "languageId": "shellscript"
    }
   },
   "outputs": [
    {
     "data": {
      "text/plain": [
       "'/Users/ingaschoyen/NatComp/ass4/b2'"
      ]
     },
     "execution_count": 2,
     "metadata": {},
     "output_type": "execute_result"
    }
   ],
   "source": [
    "pwd"
   ]
  },
  {
   "cell_type": "code",
   "execution_count": 1,
   "id": "67c46732",
   "metadata": {},
   "outputs": [],
   "source": [
    "import matplotlib.pyplot as plt\n",
    "import random\n",
    "import sys\n",
    "import os\n",
    "import numpy as np\n",
    "import itertools"
   ]
  },
  {
   "cell_type": "code",
   "execution_count": null,
   "id": "135aecd6",
   "metadata": {},
   "outputs": [
    {
     "name": "stdout",
     "output_type": "stream",
     "text": [
      "[1, 2, 3, 4, 5, 6, 7, 8, 9, 10]\n",
      "[1, 2, 3, 9, 8, 7, 6, 5, 4, 10]\n",
      "[1, 2, 3, 4, 5, 10, 9, 8, 7, 6]\n",
      "[10]\n"
     ]
    }
   ],
   "source": [
    "ar = [1, 2, 3, 4, 5, 6, 7, 8, 9, 10]\n",
    "\n",
    "new_Ar = ar.copy()\n",
    "new_Ar[3:9] = reversed(ar[3:9])\n",
    "new_ar2 = ar.copy()\n",
    "new_ar2[5:10] = reversed(ar[5:10])\n",
    "\n",
    "\n",
    "# dist 1 = norm(diff(i, i-1)) + norm(diff(j, j-1))\n",
    "# dist 2 = norm(diff(i-1, j-1)) + norm(diff(i, j))\n",
    "\n",
    "# delta_dist = dist_2 - dist_1\n",
    "\n",
    "print(ar)\n",
    "print(new_Ar)\n",
    "print(new_ar2)\n",
    "\n"
   ]
  },
  {
   "cell_type": "markdown",
   "id": "4494276c",
   "metadata": {},
   "source": [
    "## EA Class"
   ]
  },
  {
   "cell_type": "code",
   "execution_count": null,
   "id": "d65110cd",
   "metadata": {},
   "outputs": [],
   "source": [
    "\n",
    "class EA:\n",
    "\n",
    "\n",
    "    def __init__(self, cities, permutations, population_size=100, mutation_rate=0.01, crossover_rate=0.7,tournament_size=5, elitism = 10, generations=1000, horizon=15):\n",
    "        self.cities = cities # list of coordinates of cities [N x 2]\n",
    "        self.n = len(cities)\n",
    "        self.population_size = population_size\n",
    "        self.mutation_rate = mutation_rate\n",
    "        self.crossover_rate = crossover_rate\n",
    "        self.tournament_size = tournament_size\n",
    "        self.elitism = elitism\n",
    "        self.max_generations = generations\n",
    "        self.conv_horiz = horizon # number of generations to check for convergence\n",
    "        if permutations is None:\n",
    "            self.population = self.create_population2()\n",
    "        else:\n",
    "            self.population = self.create_population(permutations) # list of tuples (route, distance)\n",
    "        self.best_route = None\n",
    "        self.best_distance = float('inf')\n",
    "        self.best_distances = [] # to track best distance\n",
    "        self.distances_mean = [] # to track mean distance\n",
    "        self.distances_var = [] # to track variance in distances\n",
    "        self.generation = 0  \n",
    "        print(\"Initiated\")\n",
    "\n",
    "    def create_population(self, permutations):\n",
    "        population = []\n",
    "        # sample random indices from permutations\n",
    "        routes = random.sample(list(permutations), self.population_size)\n",
    "        for route in routes:\n",
    "            distance = self.calculate_distance(route)\n",
    "            population.append((route, distance))\n",
    "        return population\n",
    "    \n",
    "    def create_population2(self):\n",
    "        population = []\n",
    "        for _ in range(self.population_size):\n",
    "            # create a random route\n",
    "            route = np.random.permutation(range(self.n))\n",
    "            distance = self.calculate_distance(route)\n",
    "            population.append((route, distance))\n",
    "        return population\n",
    "    \n",
    "    def calculate_distance(self, route):\n",
    "        distance = 0\n",
    "        for i in range(len(route)-1):\n",
    "            city1 = self.cities[route[i]]\n",
    "            city2 = self.cities[route[i+1]]\n",
    "            distance += np.linalg.norm(np.array(city1) - np.array(city2))\n",
    "        return distance\n",
    "    \n",
    "\n",
    "    def crossover(self, parent1, parent2):\n",
    "        # order crossover\n",
    "        start, end = sorted(random.sample(range(self.n), 2))\n",
    "        child1 = [-1] * self.n\n",
    "        child2 = [-1] * self.n\n",
    "        child1[start:end] = parent1[start:end]\n",
    "        child2[start:end] = parent2[start:end]\n",
    "        self.fill_child(child1, parent2)\n",
    "        self.fill_child(child2, parent1)\n",
    "        return child1, child2\n",
    "\n",
    "    def fill_child(self, child, parent2):\n",
    "        # fill the child with the remaining genes from other parent\n",
    "        prt_idx = 0\n",
    "        for i in range(self.n):\n",
    "            if child[i] == -1:\n",
    "                while parent2[prt_idx] in child:\n",
    "                    prt_idx += 1\n",
    "                child[i] = parent2[prt_idx]\n",
    "        return child\n",
    "    \n",
    "    def mutate(self, route):\n",
    "        # swap mutation\n",
    "        # select two random indices\n",
    "        idx1, idx2 = random.sample(range(self.n), 2)\n",
    "        # swap the two cities\n",
    "        route[idx1], route[idx2] = route[idx2], route[idx1]\n",
    "        return route\n",
    "\n",
    "    \n",
    "    def evaluate_population(self):\n",
    "        # sort the population by distance, lowest distance first\n",
    "        self.population.sort(key=lambda x: x[1])\n",
    "        # update the best route and distance\n",
    "        best_solution = self.population[0]\n",
    "        self.best_distance = best_solution[1]\n",
    "        self.best_route = best_solution[0]\n",
    "        # update the best distances\n",
    "        self.best_distances.append(self.best_distance)\n",
    "        # update the mean and variance of the distances\n",
    "        self.distances_mean.append(np.mean([d[1] for d in self.population]))\n",
    "        self.distances_var.append(np.var([d[1] for d in self.population]))\n",
    "\n",
    "\n",
    "\n",
    "\n",
    "    def tournament_selection(self):\n",
    "        tournament = random.sample(self.population, self.tournament_size)\n",
    "        tournament.sort(key=lambda x: x[1])\n",
    "        return tournament[0][0], tournament[0][1] # return the best individual and its distance\n",
    "\n",
    "    def update_population(self):\n",
    "        # elitism - keep the best individuals\n",
    "        if self.elitism == 0:\n",
    "            new_population = []\n",
    "        else:\n",
    "            new_population = self.population[:self.elitism]\n",
    "        for i in range(self.population_size//3):\n",
    "            # select three parents for crossover + mutation\n",
    "            parent1, dist1 = self.tournament_selection()\n",
    "            parent2, dist2 = self.tournament_selection()\n",
    "            parent3, dist3 = self.tournament_selection()\n",
    "            if random.random() < self.crossover_rate:\n",
    "                offspring1, offspring2 = self.crossover(parent1, parent2)\n",
    "                new_population.append((offspring1, self.calculate_distance(offspring1)))\n",
    "                new_population.append((offspring2, self.calculate_distance(offspring2)))\n",
    "            # if crossover is not performed, add the parents to the new population\n",
    "            else:\n",
    "                new_population.append((parent1, dist1))\n",
    "                new_population.append((parent2, dist2))\n",
    "            # mutate the offspring\n",
    "            if random.random() < self.mutation_rate:\n",
    "                offspring3 = self.mutate(parent3)\n",
    "                new_population.append((offspring3, self.calculate_distance(offspring3)))\n",
    "            # if mutation is not performed, add the parent to the new population\n",
    "            else:\n",
    "                new_population.append((parent3, dist3))\n",
    "            # check for duplicates and remove them\n",
    "            new_population = [list(y) for y in set([tuple(x) for x in new_population])]\n",
    "        # if the new population is larger than the population size, truncate it to the population size\n",
    "        if len(new_population) > self.population_size:\n",
    "            new_population = new_population[:self.population_size]\n",
    "        self.population = new_population\n",
    "\n",
    "\n",
    "\n",
    "    def do_an_evolution(self):\n",
    "        for _ in range(self.max_generations):\n",
    "            self.evaluate_population()\n",
    "            print(f\"Generation: {self.generation}, Best Distance: {self.best_distance}\")\n",
    "            self.update_population()\n",
    "            self.generation += 1            \n",
    "            if np.mean(self.best_distances[-self.conv_horiz:]) == self.best_distance:\n",
    "                print(\"Converged\")\n",
    "                break\n",
    "        return self.best_route, self.best_distance\n",
    "    \n",
    "\n"
   ]
  },
  {
   "cell_type": "markdown",
   "id": "4593ed45",
   "metadata": {},
   "source": [
    "## Helper Functions"
   ]
  },
  {
   "cell_type": "code",
   "execution_count": 5,
   "id": "191127ac",
   "metadata": {},
   "outputs": [],
   "source": [
    "# function to read dataset from file    \n",
    "def read_dataset(file_path):\n",
    "    cities = []\n",
    "    # read the file and extract the coordinates of the cities\n",
    "    with open(file_path, 'r') as f:\n",
    "        for line in f:\n",
    "            x, y = map(float, line.strip().split())\n",
    "            cities.append((x, y))\n",
    "    return cities\n",
    "\n",
    "\n"
   ]
  },
  {
   "cell_type": "code",
   "execution_count": 6,
   "id": "4445f585",
   "metadata": {},
   "outputs": [],
   "source": [
    "def plot_results(final_dists, best_distances, mean_distances, var_distances):\n",
    "    # plot the best distance\n",
    "    plt.figure(figsize=(10, 6))\n",
    "    for i in range(len(best_distances)):\n",
    "        # plot the mean distance\n",
    "        plt.plot(mean_distances[i], label=f\"Mean Distance {i+1}\")\n",
    "        # plot the variance distance as shaded area\n",
    "        plt.fill_between(range(len(var_distances[i])), mean_distances[i]+var_distances[i], mean_distances[i]-var_distances, alpha=0.2)\n",
    "        # plot the convergence time\n",
    "        plt.vertical_line(len(best_distances[i]), color='r', linestyle='--', label=\"Convergence\")\n",
    "        # plot the best distance\n",
    "        plt.horizontal_line(final_dists[i], color='g', linestyle='--', label=\"Best Distance {i+1}\")\n",
    "    plt.xlabel(\"Generation\")\n",
    "    plt.ylabel(\"Distance\")\n",
    "    plt.title(\"Best Distance vs Generation\")\n",
    "    plt.legend()\n",
    "    plt.show()\n",
    "    plt.savefig(f\"ass4/b2/results/{dataset}_N{population_size}_mu{mutation_rate}_pc{crossover_rate}.png\")\n",
    "    plt.close()\n"
   ]
  },
  {
   "cell_type": "markdown",
   "id": "412cd1f5",
   "metadata": {},
   "source": [
    "## Simulation"
   ]
  },
  {
   "cell_type": "code",
   "execution_count": 7,
   "id": "22115a9c",
   "metadata": {},
   "outputs": [],
   "source": [
    "dataset = 'datasets/file-tsp.txt'\n",
    "population_size = 100\n",
    "mutation_rate = 0.1\n",
    "crossover_rate = 0.7\n",
    "generations = 100\n",
    "horizon = 15\n",
    "elitism = 10\n",
    "tournament_size = 5\n"
   ]
  },
  {
   "cell_type": "code",
   "execution_count": 8,
   "id": "4780908a",
   "metadata": {},
   "outputs": [],
   "source": [
    "current_dir = os.getcwd()\n",
    "file_path = os.path.join(current_dir, dataset)\n",
    "cities = read_dataset(file_path)\n"
   ]
  },
  {
   "cell_type": "code",
   "execution_count": 9,
   "id": "ab957695",
   "metadata": {},
   "outputs": [],
   "source": [
    "# get all permutations of the cities\n",
    "# perms = itertools.permutations(range(len(cities)))\n",
    "perms = None"
   ]
  },
  {
   "cell_type": "code",
   "execution_count": 17,
   "id": "333e6225",
   "metadata": {},
   "outputs": [
    {
     "name": "stdout",
     "output_type": "stream",
     "text": [
      "Starting Run 1 of 10\n",
      "Initiated\n",
      "Generation: 0, Best Distance: 433.39550413637863\n"
     ]
    },
    {
     "ename": "TypeError",
     "evalue": "unhashable type: 'numpy.ndarray'",
     "output_type": "error",
     "traceback": [
      "\u001b[0;31m---------------------------------------------------------------------------\u001b[0m",
      "\u001b[0;31mTypeError\u001b[0m                                 Traceback (most recent call last)",
      "Cell \u001b[0;32mIn[17], line 12\u001b[0m\n\u001b[1;32m      9\u001b[0m ea \u001b[38;5;241m=\u001b[39m EA(cities, perms, population_size, mutation_rate, crossover_rate, generations)\n\u001b[1;32m     11\u001b[0m \u001b[38;5;66;03m# run the search, get the best route and distance\u001b[39;00m\n\u001b[0;32m---> 12\u001b[0m best_route, best_distance \u001b[38;5;241m=\u001b[39m ea\u001b[38;5;241m.\u001b[39mdo_an_evolution()\n\u001b[1;32m     14\u001b[0m \u001b[38;5;66;03m# save the results for plotting\u001b[39;00m\n\u001b[1;32m     15\u001b[0m final_distances\u001b[38;5;241m.\u001b[39mappend(best_distance)\n",
      "Cell \u001b[0;32mIn[16], line 143\u001b[0m, in \u001b[0;36mEA.do_an_evolution\u001b[0;34m(self)\u001b[0m\n\u001b[1;32m    141\u001b[0m \u001b[38;5;28mself\u001b[39m\u001b[38;5;241m.\u001b[39mevaluate_population()\n\u001b[1;32m    142\u001b[0m \u001b[38;5;28mprint\u001b[39m(\u001b[38;5;124mf\u001b[39m\u001b[38;5;124m\"\u001b[39m\u001b[38;5;124mGeneration: \u001b[39m\u001b[38;5;132;01m{\u001b[39;00m\u001b[38;5;28mself\u001b[39m\u001b[38;5;241m.\u001b[39mgeneration\u001b[38;5;132;01m}\u001b[39;00m\u001b[38;5;124m, Best Distance: \u001b[39m\u001b[38;5;132;01m{\u001b[39;00m\u001b[38;5;28mself\u001b[39m\u001b[38;5;241m.\u001b[39mbest_distance\u001b[38;5;132;01m}\u001b[39;00m\u001b[38;5;124m\"\u001b[39m)\n\u001b[0;32m--> 143\u001b[0m \u001b[38;5;28mself\u001b[39m\u001b[38;5;241m.\u001b[39mupdate_population()\n\u001b[1;32m    144\u001b[0m \u001b[38;5;28mself\u001b[39m\u001b[38;5;241m.\u001b[39mgeneration \u001b[38;5;241m+\u001b[39m\u001b[38;5;241m=\u001b[39m \u001b[38;5;241m1\u001b[39m            \n\u001b[1;32m    145\u001b[0m \u001b[38;5;28;01mif\u001b[39;00m np\u001b[38;5;241m.\u001b[39mmean(\u001b[38;5;28mself\u001b[39m\u001b[38;5;241m.\u001b[39mbest_distances[\u001b[38;5;241m-\u001b[39m\u001b[38;5;28mself\u001b[39m\u001b[38;5;241m.\u001b[39mconv_horiz:]) \u001b[38;5;241m==\u001b[39m \u001b[38;5;28mself\u001b[39m\u001b[38;5;241m.\u001b[39mbest_distance:\n",
      "Cell \u001b[0;32mIn[16], line 131\u001b[0m, in \u001b[0;36mEA.update_population\u001b[0;34m(self)\u001b[0m\n\u001b[1;32m    129\u001b[0m         new_population\u001b[38;5;241m.\u001b[39mappend((parent3, dist3))\n\u001b[1;32m    130\u001b[0m     \u001b[38;5;66;03m# check for duplicates and remove them\u001b[39;00m\n\u001b[0;32m--> 131\u001b[0m     new_population \u001b[38;5;241m=\u001b[39m [\u001b[38;5;28mlist\u001b[39m(y) \u001b[38;5;28;01mfor\u001b[39;00m y \u001b[38;5;129;01min\u001b[39;00m \u001b[38;5;28mset\u001b[39m([\u001b[38;5;28mtuple\u001b[39m(x) \u001b[38;5;28;01mfor\u001b[39;00m x \u001b[38;5;129;01min\u001b[39;00m new_population])]\n\u001b[1;32m    132\u001b[0m \u001b[38;5;66;03m# if the new population is larger than the population size, truncate it to the population size\u001b[39;00m\n\u001b[1;32m    133\u001b[0m \u001b[38;5;28;01mif\u001b[39;00m \u001b[38;5;28mlen\u001b[39m(new_population) \u001b[38;5;241m>\u001b[39m \u001b[38;5;28mself\u001b[39m\u001b[38;5;241m.\u001b[39mpopulation_size:\n",
      "\u001b[0;31mTypeError\u001b[0m: unhashable type: 'numpy.ndarray'"
     ]
    }
   ],
   "source": [
    "final_distances = []\n",
    "best_distances = []\n",
    "mean_distances = []\n",
    "var_distances = []\n",
    "\n",
    "# repeat the search 10 times\n",
    "for i in range(10):\n",
    "    print(f\"Starting Run {i+1} of 10\")\n",
    "    ea = EA(cities, perms, population_size, mutation_rate, crossover_rate, generations)\n",
    "\n",
    "    # run the search, get the best route and distance\n",
    "    best_route, best_distance = ea.do_an_evolution()\n",
    "\n",
    "    # save the results for plotting\n",
    "    final_distances.append(best_distance)\n",
    "    best_distances.append(ea.best_distances)\n",
    "    mean_distances.append(ea.distances_mean)\n",
    "    var_distances.append(ea.distances_var)\n",
    "    # print the best route and distance\n",
    "    print(f\"Run {i+1}:\")\n",
    "    print(f\"Best Route: {best_route}\")\n",
    "    print(f\"Best Distance: {best_distance}\")\n"
   ]
  },
  {
   "cell_type": "code",
   "execution_count": null,
   "id": "02c9c48e",
   "metadata": {},
   "outputs": [],
   "source": [
    "# plot the results\n",
    "plot_results(final_distances, best_distances, mean_distances, var_distances)"
   ]
  }
 ],
 "metadata": {
  "kernelspec": {
   "display_name": "NatComp",
   "language": "python",
   "name": "python3"
  },
  "language_info": {
   "codemirror_mode": {
    "name": "ipython",
    "version": 3
   },
   "file_extension": ".py",
   "mimetype": "text/x-python",
   "name": "python",
   "nbconvert_exporter": "python",
   "pygments_lexer": "ipython3",
   "version": "3.13.2"
  }
 },
 "nbformat": 4,
 "nbformat_minor": 5
}
